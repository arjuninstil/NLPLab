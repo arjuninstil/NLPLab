{
 "cells": [
  {
   "cell_type": "markdown",
   "metadata": {},
   "source": [
    "# Introduction"
   ]
  },
  {
   "cell_type": "markdown",
   "metadata": {},
   "source": [
    "In this notebook we are going to analyze Form 10-K files of S&P 500 companies. \"A Form 10-K is an annual report required by the U.S. Securities and Exchange Commission (SEC), that gives a comprehensive summary of a company's financial performance.\" - <a href=\"https://en.wikipedia.org/wiki/Form_10-K\">Wikipedia</a>.  \n",
    "The main goal of this project is to analyze and find out which topics matter most for companies besides financial statistics. U.S. Securities and Exchange Commission <a href=\"https://www.sec.gov/\">website</a> provides all kind of reports that companies report and we can use it to get Form 10-K reports.  \n",
    "Because of time and resoursce constraints we will analyze only S&P 500 companies which comprise 80% of American equity market by capitalization."
   ]
  },
  {
   "cell_type": "markdown",
   "metadata": {},
   "source": [
    "# Getting Data"
   ]
  },
  {
   "cell_type": "markdown",
   "metadata": {},
   "source": [
    "S&P companies list were retrieved from this <a href=\"https://en.wikipedia.org/wiki/List_of_S%26P_500_companies\">Wikipedia article</a> and the corresponding Form 10-K files (annual reports) were scraped from <a href=\"https://www.sec.gov/edgar.shtml\">SEC EDGAR website.</a> For the source code of scraper please refer to **sandp500_scraper.py** file. After execution of scraper, there will be a folder with name **sandp500/** and **companies_list.csv** file inside folder, the content of which is self-explanatory."
   ]
  },
  {
   "cell_type": "markdown",
   "metadata": {},
   "source": [
    "# Data"
   ]
  },
  {
   "cell_type": "code",
   "execution_count": 1,
   "metadata": {},
   "outputs": [
    {
     "data": {
      "text/html": [
       "<div>\n",
       "<style scoped>\n",
       "    .dataframe tbody tr th:only-of-type {\n",
       "        vertical-align: middle;\n",
       "    }\n",
       "\n",
       "    .dataframe tbody tr th {\n",
       "        vertical-align: top;\n",
       "    }\n",
       "\n",
       "    .dataframe thead th {\n",
       "        text-align: right;\n",
       "    }\n",
       "</style>\n",
       "<table border=\"1\" class=\"dataframe\">\n",
       "  <thead>\n",
       "    <tr style=\"text-align: right;\">\n",
       "      <th></th>\n",
       "      <th>Ticker symbol</th>\n",
       "      <th>Security</th>\n",
       "      <th>SEC filings</th>\n",
       "      <th>GICS Sector</th>\n",
       "      <th>GICS Sub Industry</th>\n",
       "      <th>Location</th>\n",
       "      <th>Date first added</th>\n",
       "      <th>CIK</th>\n",
       "      <th>Founded</th>\n",
       "      <th>File</th>\n",
       "    </tr>\n",
       "  </thead>\n",
       "  <tbody>\n",
       "    <tr>\n",
       "      <th>0</th>\n",
       "      <td>MMM</td>\n",
       "      <td>3M Company</td>\n",
       "      <td>reports</td>\n",
       "      <td>Industrials</td>\n",
       "      <td>Industrial Conglomerates</td>\n",
       "      <td>St. Paul, Minnesota</td>\n",
       "      <td>NaN</td>\n",
       "      <td>66740</td>\n",
       "      <td>1902</td>\n",
       "      <td>0000066740.txt</td>\n",
       "    </tr>\n",
       "    <tr>\n",
       "      <th>1</th>\n",
       "      <td>ABT</td>\n",
       "      <td>Abbott Laboratories</td>\n",
       "      <td>reports</td>\n",
       "      <td>Health Care</td>\n",
       "      <td>Health Care Equipment</td>\n",
       "      <td>North Chicago, Illinois</td>\n",
       "      <td>3/31/64</td>\n",
       "      <td>1800</td>\n",
       "      <td>1888</td>\n",
       "      <td>0000001800.txt</td>\n",
       "    </tr>\n",
       "    <tr>\n",
       "      <th>2</th>\n",
       "      <td>ABBV</td>\n",
       "      <td>AbbVie Inc.</td>\n",
       "      <td>reports</td>\n",
       "      <td>Health Care</td>\n",
       "      <td>Pharmaceuticals</td>\n",
       "      <td>North Chicago, Illinois</td>\n",
       "      <td>12/31/12</td>\n",
       "      <td>1551152</td>\n",
       "      <td>2013 (1888)</td>\n",
       "      <td>0001551152.txt</td>\n",
       "    </tr>\n",
       "    <tr>\n",
       "      <th>3</th>\n",
       "      <td>ABMD</td>\n",
       "      <td>ABIOMED Inc</td>\n",
       "      <td>reports</td>\n",
       "      <td>Health Care</td>\n",
       "      <td>Health Care Equipment</td>\n",
       "      <td>Danvers, Massachusetts</td>\n",
       "      <td>5/31/18</td>\n",
       "      <td>815094</td>\n",
       "      <td>1981</td>\n",
       "      <td>0000815094.txt</td>\n",
       "    </tr>\n",
       "    <tr>\n",
       "      <th>4</th>\n",
       "      <td>ACN</td>\n",
       "      <td>Accenture plc</td>\n",
       "      <td>reports</td>\n",
       "      <td>Information Technology</td>\n",
       "      <td>IT Consulting &amp; Other Services</td>\n",
       "      <td>Dublin, Ireland</td>\n",
       "      <td>7/6/11</td>\n",
       "      <td>1467373</td>\n",
       "      <td>1989</td>\n",
       "      <td>0001467373.txt</td>\n",
       "    </tr>\n",
       "  </tbody>\n",
       "</table>\n",
       "</div>"
      ],
      "text/plain": [
       "  Ticker symbol             Security SEC filings             GICS Sector  \\\n",
       "0           MMM           3M Company     reports             Industrials   \n",
       "1           ABT  Abbott Laboratories     reports             Health Care   \n",
       "2          ABBV          AbbVie Inc.     reports             Health Care   \n",
       "3          ABMD          ABIOMED Inc     reports             Health Care   \n",
       "4           ACN        Accenture plc     reports  Information Technology   \n",
       "\n",
       "                GICS Sub Industry                 Location Date first added  \\\n",
       "0        Industrial Conglomerates      St. Paul, Minnesota              NaN   \n",
       "1           Health Care Equipment  North Chicago, Illinois          3/31/64   \n",
       "2                 Pharmaceuticals  North Chicago, Illinois         12/31/12   \n",
       "3           Health Care Equipment   Danvers, Massachusetts          5/31/18   \n",
       "4  IT Consulting & Other Services          Dublin, Ireland           7/6/11   \n",
       "\n",
       "       CIK      Founded            File  \n",
       "0    66740         1902  0000066740.txt  \n",
       "1     1800         1888  0000001800.txt  \n",
       "2  1551152  2013 (1888)  0001551152.txt  \n",
       "3   815094         1981  0000815094.txt  \n",
       "4  1467373         1989  0001467373.txt  "
      ]
     },
     "execution_count": 1,
     "metadata": {},
     "output_type": "execute_result"
    }
   ],
   "source": [
    "import pandas as pd\n",
    "data_path = 'data/sandp500/'\n",
    "df = pd.read_csv(data_path + \"companies_list.csv\")\n",
    "df.head()"
   ]
  },
  {
   "cell_type": "markdown",
   "metadata": {},
   "source": [
    "## Data preprocessing"
   ]
  },
  {
   "cell_type": "markdown",
   "metadata": {},
   "source": [
    "The content of .txt file is original Form 10-K submission with HTML tags. It is worth cleaning it and saving back without any HTML tags. Because of the sizes of files, this step takes some time to finish (~1 hour):"
   ]
  },
  {
   "cell_type": "code",
   "execution_count": 2,
   "metadata": {},
   "outputs": [
    {
     "data": {
      "application/vnd.jupyter.widget-view+json": {
       "model_id": "cc893a86f28d462ea291760bc889d410",
       "version_major": 2,
       "version_minor": 0
      },
      "text/html": [
       "<p>Failed to display Jupyter Widget of type <code>HBox</code>.</p>\n",
       "<p>\n",
       "  If you're reading this message in the Jupyter Notebook or JupyterLab Notebook, it may mean\n",
       "  that the widgets JavaScript is still loading. If this message persists, it\n",
       "  likely means that the widgets JavaScript library is either not installed or\n",
       "  not enabled. See the <a href=\"https://ipywidgets.readthedocs.io/en/stable/user_install.html\">Jupyter\n",
       "  Widgets Documentation</a> for setup instructions.\n",
       "</p>\n",
       "<p>\n",
       "  If you're reading this message in another frontend (for example, a static\n",
       "  rendering on GitHub or <a href=\"https://nbviewer.jupyter.org/\">NBViewer</a>),\n",
       "  it may mean that your frontend doesn't currently support widgets.\n",
       "</p>\n"
      ],
      "text/plain": [
       "HBox(children=(IntProgress(value=1, bar_style='info', max=1), HTML(value='')))"
      ]
     },
     "metadata": {},
     "output_type": "display_data"
    },
    {
     "name": "stderr",
     "output_type": "stream",
     "text": [
      "\r",
      "  0%|          | 0/500 [00:00<?, ?it/s]"
     ]
    },
    {
     "name": "stdout",
     "output_type": "stream",
     "text": [
      "\n"
     ]
    },
    {
     "name": "stderr",
     "output_type": "stream",
     "text": [
      " 36%|███▌      | 179/500 [21:23<38:21,  7.17s/it]"
     ]
    },
    {
     "name": "stdout",
     "output_type": "stream",
     "text": [
      "[Errno 2] No such file or directory: 'data/sandp500/0001711269.txt'\n",
      "Entry from the dataframe was removed.\n"
     ]
    },
    {
     "name": "stderr",
     "output_type": "stream",
     "text": [
      "100%|██████████| 500/500 [1:00:57<00:00,  7.31s/it]\n"
     ]
    }
   ],
   "source": [
    "# for progress bar\n",
    "from tqdm import tqdm\n",
    "from tqdm import tqdm_notebook\n",
    "tqdm_notebook().pandas()\n",
    "\n",
    "# for parsing\n",
    "from bs4 import BeautifulSoup\n",
    "\n",
    "for file_name in tqdm(list(df.File.values)):\n",
    "    try:\n",
    "        data = None\n",
    "        # read data\n",
    "        with open(data_path + file_name, \"r\") as f:\n",
    "            data = f.read()\n",
    "        \n",
    "        # write cleaned data\n",
    "        with open(data_path + file_name, \"w\") as f:\n",
    "            soup = BeautifulSoup(data, 'lxml')\n",
    "            f.write(soup.get_text())\n",
    "    \n",
    "    # in case if some companies do not have annual reports\n",
    "    except FileNotFoundError as e:\n",
    "        print(e)\n",
    "        df = df[df['File'] != file_name].reset_index()\n",
    "        print(\"Entry from the dataframe was removed.\")"
   ]
  },
  {
   "cell_type": "markdown",
   "metadata": {},
   "source": [
    "For the convenience of analyzing, it is worth to lemmatize annual reports and store them as tokens in extra column of dataframe. Besides lemmatization we will also remove punctuation, stop words and numbers. Do not forget to save the dataframe to file, because this step also takes some time to finish (~2 hours)."
   ]
  },
  {
   "cell_type": "code",
   "execution_count": 13,
   "metadata": {},
   "outputs": [],
   "source": [
    "from unicodedata import normalize\n",
    "import re\n",
    "import spacy\n",
    "\n",
    "nlp = spacy.load('en', disable=['tagger', 'parser', 'ner'])\n",
    "nlp.max_length = 100000000\n",
    "\n",
    "def pre_process(text):\n",
    "    \"\"\"Lemmatize given text.\n",
    "    \n",
    "    Args:\n",
    "        text: `string` text to lemmatize\n",
    "    Returns:\n",
    "        `list` of `string`\n",
    "    \"\"\"\n",
    "    # unicode normalize\n",
    "    text = normalize('NFKD', text)\n",
    "    \n",
    "    # remove numbers\n",
    "    text = re.sub(r'[0-9]', '', text)\n",
    "    \n",
    "    doc = nlp(text)\n",
    "    \n",
    "    # lemmatize, remove punctuation, stop words, -PRON-\n",
    "    return [t.lemma_.lower() for t in doc \n",
    "                if (not t.is_punct and \n",
    "                    not t.is_stop and \n",
    "                    t.lemma_ != '-PRON-')\n",
    "           ]\n",
    "\n",
    "def get_tokens(file_name):\n",
    "    with open(data_path + file_name, \"r\") as f:\n",
    "        text = f.read()\n",
    "    \n",
    "    # reduce the length for nlp.max_length\n",
    "    text = text.replace('\\n', '')\n",
    "    text = text.replace('\\t', '')\n",
    "    text = text.replace('\\r', '')\n",
    "    \n",
    "    return pre_process(text)"
   ]
  },
  {
   "cell_type": "code",
   "execution_count": null,
   "metadata": {},
   "outputs": [
    {
     "data": {
      "application/vnd.jupyter.widget-view+json": {
       "model_id": "c78e1f6793a844699c9479b30b430861",
       "version_major": 2,
       "version_minor": 0
      },
      "text/html": [
       "<p>Failed to display Jupyter Widget of type <code>HBox</code>.</p>\n",
       "<p>\n",
       "  If you're reading this message in the Jupyter Notebook or JupyterLab Notebook, it may mean\n",
       "  that the widgets JavaScript is still loading. If this message persists, it\n",
       "  likely means that the widgets JavaScript library is either not installed or\n",
       "  not enabled. See the <a href=\"https://ipywidgets.readthedocs.io/en/stable/user_install.html\">Jupyter\n",
       "  Widgets Documentation</a> for setup instructions.\n",
       "</p>\n",
       "<p>\n",
       "  If you're reading this message in another frontend (for example, a static\n",
       "  rendering on GitHub or <a href=\"https://nbviewer.jupyter.org/\">NBViewer</a>),\n",
       "  it may mean that your frontend doesn't currently support widgets.\n",
       "</p>\n"
      ],
      "text/plain": [
       "HBox(children=(IntProgress(value=0, max=499), HTML(value='')))"
      ]
     },
     "metadata": {},
     "output_type": "display_data"
    }
   ],
   "source": [
    "df['tokens'] = df['File'].progress_apply(lambda x: get_tokens(x))"
   ]
  },
  {
   "cell_type": "code",
   "execution_count": null,
   "metadata": {},
   "outputs": [],
   "source": [
    "df.to_csv(data_path + \"sandp500.csv\", encoding='utf-8', index=False)"
   ]
  },
  {
   "cell_type": "code",
   "execution_count": null,
   "metadata": {},
   "outputs": [],
   "source": []
  }
 ],
 "metadata": {
  "kernelspec": {
   "display_name": "Python 3",
   "language": "python",
   "name": "python3"
  },
  "language_info": {
   "codemirror_mode": {
    "name": "ipython",
    "version": 3
   },
   "file_extension": ".py",
   "mimetype": "text/x-python",
   "name": "python",
   "nbconvert_exporter": "python",
   "pygments_lexer": "ipython3",
   "version": "3.6.4"
  },
  "toc": {
   "base_numbering": 1,
   "nav_menu": {},
   "number_sections": true,
   "sideBar": true,
   "skip_h1_title": false,
   "title_cell": "Table of Contents",
   "title_sidebar": "Contents",
   "toc_cell": false,
   "toc_position": {},
   "toc_section_display": true,
   "toc_window_display": false
  }
 },
 "nbformat": 4,
 "nbformat_minor": 2
}
