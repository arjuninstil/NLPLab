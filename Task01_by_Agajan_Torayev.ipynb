{
 "cells": [
  {
   "cell_type": "markdown",
   "metadata": {},
   "source": [
    "## Exercise 01\n",
    "#### Agajan Torayev\n",
    "<a src=\"https://github.com/torayeff/NLPLab\">Github: @torayeff</a>"
   ]
  },
  {
   "cell_type": "code",
   "execution_count": 5,
   "metadata": {},
   "outputs": [],
   "source": [
    "import nltk\n",
    "import pickle\n",
    "import numpy as np\n",
    "import itertools"
   ]
  },
  {
   "cell_type": "markdown",
   "metadata": {},
   "source": [
    "### Helper Functions"
   ]
  },
  {
   "cell_type": "code",
   "execution_count": 6,
   "metadata": {},
   "outputs": [],
   "source": [
    "def features(sentence, index):\n",
    "    \"\"\"Form a feature dictionary for word.\n",
    "    \n",
    "    Args:\n",
    "        sentence: Sentence as a list of words.\n",
    "        index: The position of word in sentence as integer.\n",
    "    \n",
    "    Returns:\n",
    "        Dictionary of features for the word in sentence\n",
    "    \"\"\"\n",
    "    \n",
    "    return {\n",
    "        'word': sentence[index],\n",
    "        'is_capitalized': sentence[index][0].upper() == (sentence[index][0] and sentence[index][0].isalpha()),\n",
    "        'prefix-1': sentence[index][0],\n",
    "        'prefix-2': '' if len(sentence[index]) < 2 else sentence[index][:2],\n",
    "        'suffix-1': sentence[index][-1],\n",
    "        'suffix-2': '' if len(sentence[index]) < 2 else sentence[index][-2:],\n",
    "        'prev_word-1': '' if index == 0 else sentence[index - 1],\n",
    "        'prev_word-2': '' if index <= 1 else sentence[index - 2],\n",
    "        'next_word-1': '' if index == len(sentence) - 1 else sentence[index + 1],\n",
    "        'next_word-2': '' if index >= len(sentence) - 2 else sentence[index + 2],\n",
    "    }\n",
    "\n",
    "\n",
    "def untag(tagged_sentence):\n",
    "    \"\"\"Untag the tagged sentence.\n",
    "    \n",
    "    Args: \n",
    "        tagged_sentence: The tagged sentence as list of tuples.\n",
    "    \n",
    "    Returns:\n",
    "        List of words of sentence without tags.\n",
    "    \"\"\"\n",
    "    \n",
    "    return [word for word, tag in tagged_sentence]\n",
    "\n",
    "\n",
    "def transform_to_dataset(tagged_sentences):\n",
    "    \"\"\"Form a dataset from the given tagged sentences.\n",
    "    \n",
    "    Args:\n",
    "        tagged_sentences: List of list of tuples of tagged sentences.\n",
    "    \n",
    "    Return:\n",
    "        List of dictionaries as features X.\n",
    "        List of strings representing tag.\n",
    "    \"\"\"\n",
    "    \n",
    "    X, y = [], []\n",
    "    for tagged_sent in tagged_sentences:\n",
    "        untagged_sent = untag(tagged_sent)\n",
    "        for index in range(len(untagged_sent)):\n",
    "            X.append(features(untagged_sent, index))\n",
    "            y.append(tagged_sent[index][1])\n",
    "            \n",
    "    return X, y"
   ]
  },
  {
   "cell_type": "markdown",
   "metadata": {},
   "source": [
    "## Model 1\n",
    "### Own POS Tagger (English)"
   ]
  },
  {
   "cell_type": "code",
   "execution_count": 7,
   "metadata": {},
   "outputs": [],
   "source": [
    "from sklearn.tree import DecisionTreeClassifier\n",
    "from sklearn.feature_extraction import DictVectorizer\n",
    "from sklearn.pipeline import Pipeline\n",
    "\n",
    "def pos_model(corpus, corpus_name, load=False, save=True, cutoff_ratio=0.8, size=10000):\n",
    "    \"\"\"Train POS model.\n",
    "    \n",
    "    Args:\n",
    "        corpus: List of tagged sents.\n",
    "        corpus_name: Name of corpus as string.\n",
    "        load: Boolean, load model from file corpus_name. Default False.\n",
    "        save: Boolean, save model to file corpus_name. Default True.\n",
    "        cutoff_ratio: Ratio for splitting into training and test setences. Default 0.8.\n",
    "        size: Size for training set. Default 10000.\n",
    "        \n",
    "    Returns:\n",
    "        model: Trained POS model.\n",
    "        score: The accuracy of model on given corpus.\n",
    "    \"\"\"\n",
    "    \n",
    "    cutoff = int(cutoff_ratio * len(corpus))\n",
    "\n",
    "    training_sentences = corpus[:cutoff]\n",
    "    test_sentences = corpus[cutoff:]\n",
    "    \n",
    "    X, y = transform_to_dataset(training_sentences)\n",
    "    X_test, y_test = transform_to_dataset(test_sentences)\n",
    "    \n",
    "    if load:\n",
    "        print(\"[Loading the model.]\")\n",
    "        with open(corpus_name, \"rb\") as model_file:\n",
    "            model = pickle.load(model_file)\n",
    "    else:\n",
    "        print(\"[Training the model.]\")\n",
    "        \n",
    "        model = Pipeline([\n",
    "            ('vectorizer', DictVectorizer(sparse=False)),\n",
    "            ('classifier', DecisionTreeClassifier(criterion='entropy'))\n",
    "        ])\n",
    "        \n",
    "        model.fit(X[:size], y[:size])\n",
    "    \n",
    "        if save:\n",
    "            print(\"[Saving the model to file.]\")\n",
    "            with open(corpus_name, \"wb\") as model_file:\n",
    "                pickle.dump(model, model_file)\n",
    "    \n",
    "    score = model.score(X_test, y_test)\n",
    "    print(\"[Accuracy of model: %lf]\"% (score))\n",
    "    \n",
    "    return model, score"
   ]
  },
  {
   "cell_type": "markdown",
   "metadata": {},
   "source": [
    "#### Penn TreeBank Corpus"
   ]
  },
  {
   "cell_type": "code",
   "execution_count": 8,
   "metadata": {},
   "outputs": [
    {
     "name": "stdout",
     "output_type": "stream",
     "text": [
      "[Loading the model.]\n",
      "[Accuracy of model: 0.871600]\n"
     ]
    }
   ],
   "source": [
    "model, performance_1_1 = pos_model(nltk.corpus.treebank.tagged_sents(), \"penntreebank\", load=True, size=10000)"
   ]
  },
  {
   "cell_type": "markdown",
   "metadata": {},
   "source": [
    "#### Brown Corpus"
   ]
  },
  {
   "cell_type": "code",
   "execution_count": 9,
   "metadata": {},
   "outputs": [
    {
     "name": "stdout",
     "output_type": "stream",
     "text": [
      "[Loading the model.]\n",
      "[Accuracy of model: 0.755467]\n"
     ]
    }
   ],
   "source": [
    "model, performance_1_4 = pos_model(nltk.corpus.brown.tagged_sents(), \"browncorpus\", load=True, size=10000)"
   ]
  },
  {
   "cell_type": "markdown",
   "metadata": {},
   "source": [
    "## Model 2\n",
    "### Pre-trained NLTK POS tagger"
   ]
  },
  {
   "cell_type": "code",
   "execution_count": 10,
   "metadata": {},
   "outputs": [],
   "source": [
    "def model2(corpus_sents, corpus_tagged):\n",
    "    \"\"\"Test pre-trained NLTK POS tagger.\n",
    "    \n",
    "    Args:\n",
    "        corpus_sents: List of corpus sentences.\n",
    "        corpus_tagged: List of lists of tuples of tagged sentences in the corpus.\n",
    "        \n",
    "    Returns:\n",
    "        Accuracy of the pre-trained POS tagger on the given corpus.\n",
    "    \"\"\"\n",
    "    \n",
    "    cutoff = int(0.8 * len(corpus_sents))\n",
    "    test_sentences = corpus_sents[cutoff:]\n",
    "\n",
    "    gold_standard = corpus_tagged[cutoff:]\n",
    "    y_pred = [nltk.pos_tag(sent) for sent in test_sentences]\n",
    "\n",
    "    a = [t[1] for t in list(itertools.chain(*y_pred))]\n",
    "    b = [t[1] for t in list(itertools.chain(*gold_standard))]\n",
    "\n",
    "    return np.mean(np.array(a) == np.array(b))"
   ]
  },
  {
   "cell_type": "markdown",
   "metadata": {},
   "source": [
    "#### Penn TreeBank Corpus"
   ]
  },
  {
   "cell_type": "code",
   "execution_count": 11,
   "metadata": {},
   "outputs": [
    {
     "name": "stdout",
     "output_type": "stream",
     "text": [
      "0.8937072708218973\n"
     ]
    }
   ],
   "source": [
    "performance_1_2 = model2(nltk.corpus.treebank.sents(), nltk.corpus.treebank.tagged_sents()) \n",
    "print(performance_1_2)"
   ]
  },
  {
   "cell_type": "markdown",
   "metadata": {},
   "source": [
    "#### Brown Corpus"
   ]
  },
  {
   "cell_type": "code",
   "execution_count": 12,
   "metadata": {},
   "outputs": [
    {
     "name": "stdout",
     "output_type": "stream",
     "text": [
      "0.6062210128562457\n"
     ]
    }
   ],
   "source": [
    "performance_1_5 = model2(nltk.corpus.brown.sents(), nltk.corpus.brown.tagged_sents()) \n",
    "print(performance_1_5)"
   ]
  },
  {
   "cell_type": "markdown",
   "metadata": {},
   "source": [
    "## Model 3\n",
    "### Rule based classifiers"
   ]
  },
  {
   "cell_type": "code",
   "execution_count": 13,
   "metadata": {},
   "outputs": [],
   "source": [
    "from nltk import DefaultTagger as df\n",
    "from nltk import UnigramTagger as ut\n",
    "from nltk import BigramTagger as bt\n",
    "from nltk import TrigramTagger as tg\n",
    "\n",
    "patterns = [(r'.*ing$', 'VBG'), (r'.*ed$', 'VBD'),\n",
    "                (r'.*es$', 'VBZ'), (r'.*ould$', 'MD'),\n",
    "                (r'.*\\'s$', 'NN$'), (r'.*s$', 'NNS'),\n",
    "                (r'^-?[0-9]+(.[0-9]+)?$', 'CD'), (r'.*', 'NN')]"
   ]
  },
  {
   "cell_type": "markdown",
   "metadata": {},
   "source": [
    "#### Penn Treebank Corpus"
   ]
  },
  {
   "cell_type": "code",
   "execution_count": 14,
   "metadata": {},
   "outputs": [
    {
     "name": "stdout",
     "output_type": "stream",
     "text": [
      "[Default Tagger accuracy on Treebank Corpus: 0.144768]\n",
      "[Unigram Tagger accuracy on Treebank Corpus: 0.860821]\n",
      "[Bigram Tagger accuracy on Treebank Corpus: 0.113279]\n",
      "[Trigram Tagger accuracy on Treebank Corpus: 0.067369]\n",
      "[Regexp Tagger accuracy on Treebank Corpus: 0.242327]\n"
     ]
    }
   ],
   "source": [
    "tagged_sents = nltk.corpus.treebank.tagged_sents()\n",
    "cutoff = int(len(tagged_sents) * 0.8)\n",
    "train_sents = tagged_sents[:cutoff]\n",
    "test_sents = tagged_sents[cutoff:]\n",
    "\n",
    "# Default Tagger\n",
    "performance_1_3_1 = nltk.DefaultTagger('NN').evaluate(test_sents)\n",
    "print(\"[Default Tagger accuracy on Treebank Corpus: %lf]\"%performance_1_3_1)\n",
    "\n",
    "# Unigram Tagger\n",
    "performance_1_3_2 = nltk.UnigramTagger(train_sents).evaluate(test_sents)\n",
    "print(\"[Unigram Tagger accuracy on Treebank Corpus: %lf]\"%performance_1_3_2)\n",
    "\n",
    "# Bigram Tagger\n",
    "performance_1_3_3 = nltk.BigramTagger(train_sents).evaluate(test_sents)\n",
    "print(\"[Bigram Tagger accuracy on Treebank Corpus: %lf]\"%performance_1_3_3)\n",
    "\n",
    "# Trigram Tagger\n",
    "performance_1_3_4 = nltk.TrigramTagger(train_sents).evaluate(test_sents)\n",
    "print(\"[Trigram Tagger accuracy on Treebank Corpus: %lf]\"%performance_1_3_4)\n",
    "\n",
    "# Regexp Tagger\n",
    "performance_1_3_5 = nltk.RegexpTagger(patterns).evaluate(test_sents)\n",
    "print(\"[Regexp Tagger accuracy on Treebank Corpus: %lf]\"%performance_1_3_5)"
   ]
  },
  {
   "cell_type": "code",
   "execution_count": 15,
   "metadata": {},
   "outputs": [
    {
     "name": "stdout",
     "output_type": "stream",
     "text": [
      "[Default Tagger accuracy on Brown Corpus: 0.109978]\n",
      "[Unigram Tagger accuracy on Brown Corpus: 0.877375]\n",
      "[Bigram Tagger accuracy on Brown Corpus: 0.339049]\n",
      "[Trigram Tagger accuracy on Brown Corpus: 0.191786]\n",
      "[Regexp Tagger accuracy on Brown Corpus: 0.175944]\n"
     ]
    }
   ],
   "source": [
    "#### Brown Corpus\n",
    "tagged_sents = nltk.corpus.brown.tagged_sents()\n",
    "cutoff = int(len(tagged_sents) * 0.8)\n",
    "train_sents = tagged_sents[:cutoff]\n",
    "test_sents = tagged_sents[cutoff:]\n",
    "\n",
    "# Default Tagger\n",
    "performance_1_6_1 = nltk.DefaultTagger('NN').evaluate(test_sents)\n",
    "print(\"[Default Tagger accuracy on Brown Corpus: %lf]\"%performance_1_6_1)\n",
    "\n",
    "# Unigram Tagger\n",
    "performance_1_6_2 = nltk.UnigramTagger(train_sents).evaluate(test_sents)\n",
    "print(\"[Unigram Tagger accuracy on Brown Corpus: %lf]\"%performance_1_6_2)\n",
    "\n",
    "# Bigram Tagger\n",
    "performance_1_6_3 = nltk.BigramTagger(train_sents).evaluate(test_sents)\n",
    "print(\"[Bigram Tagger accuracy on Brown Corpus: %lf]\"%performance_1_6_3)\n",
    "\n",
    "# Trigram Tagger\n",
    "performance_1_6_4 = nltk.TrigramTagger(train_sents).evaluate(test_sents)\n",
    "print(\"[Trigram Tagger accuracy on Brown Corpus: %lf]\"%performance_1_6_4)\n",
    "\n",
    "# Regexp Tagger\n",
    "performance_1_6_5 = nltk.RegexpTagger(patterns).evaluate(test_sents)\n",
    "print(\"[Regexp Tagger accuracy on Brown Corpus: %lf]\"%performance_1_6_5)"
   ]
  },
  {
   "cell_type": "markdown",
   "metadata": {},
   "source": [
    "## Model 4\n",
    "### Own POS Tagger (Spanish)"
   ]
  },
  {
   "cell_type": "code",
   "execution_count": 16,
   "metadata": {},
   "outputs": [],
   "source": [
    "spanish_corpus = nltk.corpus.ConllCorpusReader('.', 'IULA_Spanish_LSP_Treebank.conll',\n",
    "                                              ('ignore', 'words', 'ignore', 'ignore', \n",
    "                                               'pos', 'ignore', 'ignore'))"
   ]
  },
  {
   "cell_type": "code",
   "execution_count": 17,
   "metadata": {},
   "outputs": [
    {
     "name": "stdout",
     "output_type": "stream",
     "text": [
      "[Loading the model.]\n",
      "[Accuracy of model: 0.723065]\n"
     ]
    }
   ],
   "source": [
    "model, performance_2_1 = pos_model(spanish_corpus.tagged_sents(), \"spanish_model\", load=True)"
   ]
  },
  {
   "cell_type": "markdown",
   "metadata": {},
   "source": [
    "## Model 5\n",
    "\n",
    "### Pre-trained POS tagger model using TreeTagger (Spanish)"
   ]
  },
  {
   "cell_type": "code",
   "execution_count": 18,
   "metadata": {},
   "outputs": [],
   "source": [
    "import os\n",
    "os.environ['TREETAGGER_HOME'] = \"/Users/torayeff/treetagger/cmd\"\n",
    "from treetagger import TreeTagger\n",
    "tt = TreeTagger(language='spanish')\n",
    "size = 1000"
   ]
  },
  {
   "cell_type": "code",
   "execution_count": 19,
   "metadata": {},
   "outputs": [],
   "source": [
    "with open(\"spanish_pre_trained\", \"rb\") as handle:\n",
    "    pred_tags = pickle.load(handle)"
   ]
  },
  {
   "cell_type": "code",
   "execution_count": 20,
   "metadata": {},
   "outputs": [],
   "source": [
    "# pred_tags = []\n",
    "# for sent in spanish_corpus.sents()[:size]:\n",
    "#     y = tt.tag(sent)\n",
    "#     for pos in y:\n",
    "#         pred_tags.append(pos[1])\n",
    "# with open(\"spanish_pre_trained\", \"wb\") as handle:\n",
    "#     pickle.dump(pred_tags, handle)"
   ]
  },
  {
   "cell_type": "code",
   "execution_count": 21,
   "metadata": {},
   "outputs": [
    {
     "name": "stdout",
     "output_type": "stream",
     "text": [
      "0.0027618859735648055\n",
      "[!!!The accuracy is low due to different tagsets of treetagger and corpus being tested!!!]\n"
     ]
    }
   ],
   "source": [
    "b = [t[1] for t in list(itertools.chain(*spanish_corpus.tagged_sents()[:size]))]\n",
    "mc = min(len(b), len(pred_tags))\n",
    "performance_2_2 = np.mean(np.array(pred_tags[:mc]) == np.array(b[:mc]))\n",
    "print(performance_2_2)\n",
    "print(\"[!!!The accuracy is low due to different tagsets of treetagger and corpus being tested!!!]\")"
   ]
  },
  {
   "cell_type": "markdown",
   "metadata": {},
   "source": [
    "## Charts"
   ]
  },
  {
   "cell_type": "code",
   "execution_count": 42,
   "metadata": {},
   "outputs": [],
   "source": [
    "%matplotlib inline\n",
    "import matplotlib.pyplot as plt\n",
    "import seaborn as sns"
   ]
  },
  {
   "cell_type": "code",
   "execution_count": 45,
   "metadata": {},
   "outputs": [
    {
     "data": {
      "text/plain": [
       "(array([0, 1, 2, 3, 4, 5, 6]), <a list of 7 Text xticklabel objects>)"
      ]
     },
     "execution_count": 45,
     "metadata": {},
     "output_type": "execute_result"
    },
    {
     "data": {
      "image/png": "[encoded data removed]",
      "text/plain": [
       "<matplotlib.figure.Figure at 0x1a25391160>"
      ]
     },
     "metadata": {},
     "output_type": "display_data"
    }
   ],
   "source": [
    "x = ['Own POS tagger','NLTK POS tagger','Default POS Tagger', \n",
    "                  'Unigram POS Tagger', 'Bigram POS Tagger', 'Trigram POS Tagger', 'Regexp POS tagger']\n",
    "y = [performance_1_1, performance_1_2, performance_1_3_1, performance_1_3_2,\n",
    "                    performance_1_3_3, performance_1_3_4, performance_1_3_5]\n",
    "sns.barplot(x, y)\n",
    "plt.title('Penn Treebank Corpus (English)')\n",
    "plt.xticks(rotation=45)"
   ]
  },
  {
   "cell_type": "code",
   "execution_count": 39,
   "metadata": {},
   "outputs": [
    {
     "data": {
      "text/html": [
       "<iframe id=\"igraph\" scrolling=\"no\" style=\"border:none;\" seamless=\"seamless\" src=\"https://plot.ly/~torayeff/8.embed\" height=\"525px\" width=\"100%\"></iframe>"
      ],
      "text/plain": [
       "<plotly.tools.PlotlyDisplay object>"
      ]
     },
     "execution_count": 39,
     "metadata": {},
     "output_type": "execute_result"
    }
   ],
   "source": [
    "x = ['Own POS tagger','NLTK POS tagger','Default POS Tagger', \n",
    "                  'Unigram POS Tagger', 'Bigram POS Tagger', 'Trigram POS Tagger', 'Regexp POS tagger'],\n",
    "\n",
    "y = [performance_1_4, performance_1_5, performance_1_6_1, performance_1_6_2,\n",
    "               performance_1_6_3, performance_1_6_4, performance_1_6_5]\n",
    "\n",
    "layout = go.Layout(\n",
    "    title='Brown Corpus (English))',\n",
    ")\n",
    "\n",
    "fig = go.Figure(data=data, layout=layout)\n",
    "\n",
    "py.iplot(fig, filename='performance_1_brown')"
   ]
  },
  {
   "cell_type": "code",
   "execution_count": 40,
   "metadata": {},
   "outputs": [
    {
     "data": {
      "text/html": [
       "<iframe id=\"igraph\" scrolling=\"no\" style=\"border:none;\" seamless=\"seamless\" src=\"https://plot.ly/~torayeff/10.embed\" height=\"525px\" width=\"100%\"></iframe>"
      ],
      "text/plain": [
       "<plotly.tools.PlotlyDisplay object>"
      ]
     },
     "execution_count": 40,
     "metadata": {},
     "output_type": "execute_result"
    }
   ],
   "source": [
    "data = [go.Bar(\n",
    "            x=['Own POS tagger','Treetagger'],\n",
    "            y=[performance_2_1, performance_2_2]\n",
    "    )]\n",
    "\n",
    "layout = go.Layout(\n",
    "    title=\"Spanish Corpus (accuracy is low due  to tagsets mismatch!!!)\",\n",
    ")\n",
    "\n",
    "fig = go.Figure(data=data, layout=layout)\n",
    "\n",
    "py.iplot(fig, filename='performance_2_spanish')"
   ]
  }
 ],
 "metadata": {
  "kernelspec": {
   "display_name": "Python 3",
   "language": "python",
   "name": "python3"
  },
  "language_info": {
   "codemirror_mode": {
    "name": "ipython",
    "version": 3
   },
   "file_extension": ".py",
   "mimetype": "text/x-python",
   "name": "python",
   "nbconvert_exporter": "python",
   "pygments_lexer": "ipython3",
   "version": "3.6.4"
  }
 },
 "nbformat": 4,
 "nbformat_minor": 2
}
