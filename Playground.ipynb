{
 "cells": [
  {
   "cell_type": "code",
   "execution_count": 105,
   "metadata": {},
   "outputs": [],
   "source": [
    "import pandas as pd\n",
    "import numpy as np"
   ]
  },
  {
   "cell_type": "code",
   "execution_count": 106,
   "metadata": {},
   "outputs": [],
   "source": [
    "df = pd.read_csv(\"private/tax_risk_sorted_and_merged.csv\")"
   ]
  },
  {
   "cell_type": "code",
   "execution_count": 107,
   "metadata": {},
   "outputs": [
    {
     "data": {
      "text/html": [
       "<div>\n",
       "<style scoped>\n",
       "    .dataframe tbody tr th:only-of-type {\n",
       "        vertical-align: middle;\n",
       "    }\n",
       "\n",
       "    .dataframe tbody tr th {\n",
       "        vertical-align: top;\n",
       "    }\n",
       "\n",
       "    .dataframe thead th {\n",
       "        text-align: right;\n",
       "    }\n",
       "</style>\n",
       "<table border=\"1\" class=\"dataframe\">\n",
       "  <thead>\n",
       "    <tr style=\"text-align: right;\">\n",
       "      <th></th>\n",
       "      <th>text</th>\n",
       "      <th>company</th>\n",
       "      <th>year</th>\n",
       "      <th>file_name</th>\n",
       "      <th>dummy1</th>\n",
       "      <th>dummy2</th>\n",
       "      <th>dummy3</th>\n",
       "    </tr>\n",
       "  </thead>\n",
       "  <tbody>\n",
       "    <tr>\n",
       "      <th>0</th>\n",
       "      <td>-  creasing freight rates.    The purchase o...</td>\n",
       "      <td>a.p. moller-maersk</td>\n",
       "      <td>2007</td>\n",
       "      <td>A.P. Moller-Maersk_2007.TXT</td>\n",
       "      <td>1</td>\n",
       "      <td>0</td>\n",
       "      <td>0</td>\n",
       "    </tr>\n",
       "    <tr>\n",
       "      <th>1</th>\n",
       "      <td>delivery from banks, export credit organisat...</td>\n",
       "      <td>a.p. moller-maersk</td>\n",
       "      <td>2008</td>\n",
       "      <td>A.P. Moller-Maersk_2008.TXT</td>\n",
       "      <td>1</td>\n",
       "      <td>0</td>\n",
       "      <td>0</td>\n",
       "    </tr>\n",
       "    <tr>\n",
       "      <th>2</th>\n",
       "      <td>\\x92s envi- ronmental impact and its social r...</td>\n",
       "      <td>a.p. moller-maersk</td>\n",
       "      <td>2009</td>\n",
       "      <td>A.P. Moller-Maersk_2009.TXT</td>\n",
       "      <td>1</td>\n",
       "      <td>1</td>\n",
       "      <td>1</td>\n",
       "    </tr>\n",
       "    <tr>\n",
       "      <th>3</th>\n",
       "      <td>global human rights standards associated wi...</td>\n",
       "      <td>a.p. moller-maersk</td>\n",
       "      <td>2011</td>\n",
       "      <td>A.P. Moller-Maersk_2011.TXT</td>\n",
       "      <td>1</td>\n",
       "      <td>1</td>\n",
       "      <td>1</td>\n",
       "    </tr>\n",
       "    <tr>\n",
       "      <th>4</th>\n",
       "      <td>Human rights It is a priority for the Group ...</td>\n",
       "      <td>a.p. moller-maersk</td>\n",
       "      <td>2012</td>\n",
       "      <td>A.P. Moller-Maersk_2012.TXT</td>\n",
       "      <td>1</td>\n",
       "      <td>1</td>\n",
       "      <td>1</td>\n",
       "    </tr>\n",
       "  </tbody>\n",
       "</table>\n",
       "</div>"
      ],
      "text/plain": [
       "                                                text             company  \\\n",
       "0    -  creasing freight rates.    The purchase o...  a.p. moller-maersk   \n",
       "1    delivery from banks, export credit organisat...  a.p. moller-maersk   \n",
       "2   \\x92s envi- ronmental impact and its social r...  a.p. moller-maersk   \n",
       "3     global human rights standards associated wi...  a.p. moller-maersk   \n",
       "4    Human rights It is a priority for the Group ...  a.p. moller-maersk   \n",
       "\n",
       "   year                    file_name  dummy1  dummy2  dummy3  \n",
       "0  2007  A.P. Moller-Maersk_2007.TXT       1       0       0  \n",
       "1  2008  A.P. Moller-Maersk_2008.TXT       1       0       0  \n",
       "2  2009  A.P. Moller-Maersk_2009.TXT       1       1       1  \n",
       "3  2011  A.P. Moller-Maersk_2011.TXT       1       1       1  \n",
       "4  2012  A.P. Moller-Maersk_2012.TXT       1       1       1  "
      ]
     },
     "execution_count": 107,
     "metadata": {},
     "output_type": "execute_result"
    }
   ],
   "source": [
    "df.head()"
   ]
  },
  {
   "cell_type": "code",
   "execution_count": 108,
   "metadata": {},
   "outputs": [],
   "source": [
    "df = df[['text', 'dummy3']]"
   ]
  },
  {
   "cell_type": "code",
   "execution_count": 109,
   "metadata": {},
   "outputs": [
    {
     "data": {
      "text/html": [
       "<div>\n",
       "<style scoped>\n",
       "    .dataframe tbody tr th:only-of-type {\n",
       "        vertical-align: middle;\n",
       "    }\n",
       "\n",
       "    .dataframe tbody tr th {\n",
       "        vertical-align: top;\n",
       "    }\n",
       "\n",
       "    .dataframe thead th {\n",
       "        text-align: right;\n",
       "    }\n",
       "</style>\n",
       "<table border=\"1\" class=\"dataframe\">\n",
       "  <thead>\n",
       "    <tr style=\"text-align: right;\">\n",
       "      <th></th>\n",
       "      <th>text</th>\n",
       "      <th>dummy3</th>\n",
       "    </tr>\n",
       "  </thead>\n",
       "  <tbody>\n",
       "    <tr>\n",
       "      <th>0</th>\n",
       "      <td>-  creasing freight rates.    The purchase o...</td>\n",
       "      <td>0</td>\n",
       "    </tr>\n",
       "    <tr>\n",
       "      <th>1</th>\n",
       "      <td>delivery from banks, export credit organisat...</td>\n",
       "      <td>0</td>\n",
       "    </tr>\n",
       "    <tr>\n",
       "      <th>2</th>\n",
       "      <td>\\x92s envi- ronmental impact and its social r...</td>\n",
       "      <td>1</td>\n",
       "    </tr>\n",
       "    <tr>\n",
       "      <th>3</th>\n",
       "      <td>global human rights standards associated wi...</td>\n",
       "      <td>1</td>\n",
       "    </tr>\n",
       "    <tr>\n",
       "      <th>4</th>\n",
       "      <td>Human rights It is a priority for the Group ...</td>\n",
       "      <td>1</td>\n",
       "    </tr>\n",
       "  </tbody>\n",
       "</table>\n",
       "</div>"
      ],
      "text/plain": [
       "                                                text  dummy3\n",
       "0    -  creasing freight rates.    The purchase o...       0\n",
       "1    delivery from banks, export credit organisat...       0\n",
       "2   \\x92s envi- ronmental impact and its social r...       1\n",
       "3     global human rights standards associated wi...       1\n",
       "4    Human rights It is a priority for the Group ...       1"
      ]
     },
     "execution_count": 109,
     "metadata": {},
     "output_type": "execute_result"
    }
   ],
   "source": [
    "df.head()"
   ]
  },
  {
   "cell_type": "code",
   "execution_count": 117,
   "metadata": {},
   "outputs": [
    {
     "name": "stdout",
     "output_type": "stream",
     "text": [
      "Negatives:  4078\n",
      "Positives:  597\n"
     ]
    }
   ],
   "source": [
    "neg_len = len(df[df['dummy3']==0])\n",
    "pos_len = len(df[df['dummy3']==1])\n",
    "print(\"Negatives: \", neg_len)\n",
    "print(\"Positives: \", pos_len)"
   ]
  },
  {
   "cell_type": "markdown",
   "metadata": {},
   "source": [
    "### Generate artificial positives   "
   ]
  },
  {
   "cell_type": "code",
   "execution_count": 115,
   "metadata": {},
   "outputs": [],
   "source": [
    "positive_texts = list(df[df['dummy3']==1]['text'])"
   ]
  },
  {
   "cell_type": "code",
   "execution_count": 118,
   "metadata": {},
   "outputs": [
    {
     "data": {
      "text/plain": [
       "597"
      ]
     },
     "execution_count": 118,
     "metadata": {},
     "output_type": "execute_result"
    }
   ],
   "source": [
    "len(positive_texts)"
   ]
  },
  {
   "cell_type": "code",
   "execution_count": 130,
   "metadata": {},
   "outputs": [],
   "source": [
    "positive_sentence_lengths = np.array([len(s.split(\" \")) for s in positive_texts])"
   ]
  },
  {
   "cell_type": "code",
   "execution_count": 131,
   "metadata": {},
   "outputs": [
    {
     "data": {
      "text/plain": [
       "1098.4087102177555"
      ]
     },
     "execution_count": 131,
     "metadata": {},
     "output_type": "execute_result"
    }
   ],
   "source": [
    "positive_sentence_lengths.mean()"
   ]
  },
  {
   "cell_type": "code",
   "execution_count": 132,
   "metadata": {},
   "outputs": [
    {
     "data": {
      "text/plain": [
       "982.3355653437411"
      ]
     },
     "execution_count": 132,
     "metadata": {},
     "output_type": "execute_result"
    }
   ],
   "source": []
  },
  {
   "cell_type": "code",
   "execution_count": null,
   "metadata": {},
   "outputs": [],
   "source": [
    "artificial_positives = []\n",
    "for i in range(neg_len-pos_len):\n",
    "    # get random text"
   ]
  }
 ],
 "metadata": {
  "kernelspec": {
   "display_name": "Python 3",
   "language": "python",
   "name": "python3"
  },
  "language_info": {
   "codemirror_mode": {
    "name": "ipython",
    "version": 3
   },
   "file_extension": ".py",
   "mimetype": "text/x-python",
   "name": "python",
   "nbconvert_exporter": "python",
   "pygments_lexer": "ipython3",
   "version": "3.6.4"
  }
 },
 "nbformat": 4,
 "nbformat_minor": 2
}
