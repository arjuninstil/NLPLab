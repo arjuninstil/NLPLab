{
 "cells": [
  {
   "cell_type": "code",
   "execution_count": 1,
   "metadata": {},
   "outputs": [],
   "source": [
    "import spacy"
   ]
  },
  {
   "cell_type": "code",
   "execution_count": 13,
   "metadata": {},
   "outputs": [
    {
     "data": {
      "text/plain": [
       "['currently',\n",
       " 'be',\n",
       " 'live',\n",
       " 'germany',\n",
       " 'e.u.',\n",
       " 'i',\n",
       " 'want',\n",
       " 'live',\n",
       " 'u.s.',\n",
       " 'beautiful']"
      ]
     },
     "execution_count": 13,
     "metadata": {},
     "output_type": "execute_result"
    }
   ],
   "source": [
    "nlp = spacy.load('en', disable=['tagger', 'parser', 'ner'])\n",
    "\n",
    "text = \"Currently, I'm living in Germany, the E.U. but I want to live in U.S. it is beautiful\"\n",
    "\n",
    "doc = nlp(text)\n",
    "\n",
    "[t.lemma_.lower() for t in doc if (not t.is_punct and not t.is_stop and t.lemma_ != '-PRON-')]"
   ]
  },
  {
   "cell_type": "code",
   "execution_count": 45,
   "metadata": {},
   "outputs": [
    {
     "data": {
      "text/plain": [
       "['currently',\n",
       " 'be',\n",
       " 'live',\n",
       " 'germany',\n",
       " 'e.u.',\n",
       " 'i',\n",
       " 'want',\n",
       " 'live',\n",
       " 'u.s.',\n",
       " 'beautiful',\n",
       " 'çörek',\n",
       " '$']"
      ]
     },
     "execution_count": 45,
     "metadata": {},
     "output_type": "execute_result"
    }
   ],
   "source": [
    "from unicodedata import normalize\n",
    "import re\n",
    "import spacy\n",
    "\n",
    "nlp = spacy.load('en', disable=['tagger', 'parser', 'ner'])\n",
    "nlp.max_length = 3000000\n",
    "\n",
    "def pre_process(text):\n",
    "    \"\"\"Lemmatize given text.\n",
    "    \n",
    "    Args:\n",
    "        text: `string` text to lemmatize\n",
    "    Returns:\n",
    "        `list` of `string`\n",
    "    \"\"\"\n",
    "    # unicode normalize\n",
    "    text = normalize('NFKD', text)\n",
    "    \n",
    "    # remove numbers\n",
    "    text = re.sub(r'[0-9]', '', text)\n",
    "    \n",
    "    doc = nlp(text)\n",
    "    \n",
    "    # lemmatize, remove punctuation, stop words, -PRON-\n",
    "    return [t.lemma_.lower() for t in doc \n",
    "                if (not t.is_punct and \n",
    "                    not t.is_stop and \n",
    "                    t.lemma_ != '-PRON-')\n",
    "           ]\n",
    "\n",
    "text = \"Currently, I'm living in Germany, the E.U. but I want to live in U.S. it is beautiful. çörek $7.7 19!!! \\ []\"\n",
    "pre_process(text)"
   ]
  },
  {
   "cell_type": "code",
   "execution_count": 40,
   "metadata": {},
   "outputs": [
    {
     "data": {
      "text/plain": [
       "['currently',\n",
       " 'be',\n",
       " 'live',\n",
       " 'germany',\n",
       " 'e.u.',\n",
       " 'i',\n",
       " 'want',\n",
       " 'live',\n",
       " 'u.s.',\n",
       " 'beautiful',\n",
       " 'çörek',\n",
       " '$',\n",
       " '7.7']"
      ]
     },
     "execution_count": 40,
     "metadata": {},
     "output_type": "execute_result"
    }
   ],
   "source": [
    "['currently',\n",
    " 'be',\n",
    " 'live',\n",
    " 'germany',\n",
    " 'e.u.',\n",
    " 'i',\n",
    " 'want',\n",
    " 'live',\n",
    " 'u.s.',\n",
    " 'beautiful',\n",
    " 'çörek',\n",
    " '$',\n",
    " '7.7']"
   ]
  },
  {
   "cell_type": "code",
   "execution_count": null,
   "metadata": {},
   "outputs": [],
   "source": []
  }
 ],
 "metadata": {
  "kernelspec": {
   "display_name": "Python 3",
   "language": "python",
   "name": "python3"
  },
  "language_info": {
   "codemirror_mode": {
    "name": "ipython",
    "version": 3
   },
   "file_extension": ".py",
   "mimetype": "text/x-python",
   "name": "python",
   "nbconvert_exporter": "python",
   "pygments_lexer": "ipython3",
   "version": "3.6.4"
  },
  "toc": {
   "base_numbering": 1,
   "nav_menu": {},
   "number_sections": true,
   "sideBar": true,
   "skip_h1_title": false,
   "title_cell": "Table of Contents",
   "title_sidebar": "Contents",
   "toc_cell": false,
   "toc_position": {},
   "toc_section_display": true,
   "toc_window_display": false
  }
 },
 "nbformat": 4,
 "nbformat_minor": 2
}
