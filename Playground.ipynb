{
 "cells": [
  {
   "cell_type": "code",
   "execution_count": 1,
   "metadata": {},
   "outputs": [],
   "source": [
    "import pandas as pd\n",
    "import numpy as np"
   ]
  },
  {
   "cell_type": "code",
   "execution_count": 2,
   "metadata": {},
   "outputs": [
    {
     "data": {
      "text/html": [
       "<div>\n",
       "<style scoped>\n",
       "    .dataframe tbody tr th:only-of-type {\n",
       "        vertical-align: middle;\n",
       "    }\n",
       "\n",
       "    .dataframe tbody tr th {\n",
       "        vertical-align: top;\n",
       "    }\n",
       "\n",
       "    .dataframe thead th {\n",
       "        text-align: right;\n",
       "    }\n",
       "</style>\n",
       "<table border=\"1\" class=\"dataframe\">\n",
       "  <thead>\n",
       "    <tr style=\"text-align: right;\">\n",
       "      <th></th>\n",
       "      <th>text</th>\n",
       "      <th>company</th>\n",
       "      <th>year</th>\n",
       "      <th>file_name</th>\n",
       "      <th>dummy1</th>\n",
       "      <th>dummy2</th>\n",
       "      <th>dummy3</th>\n",
       "    </tr>\n",
       "  </thead>\n",
       "  <tbody>\n",
       "    <tr>\n",
       "      <th>0</th>\n",
       "      <td>-  creasing freight rates.    The purchase o...</td>\n",
       "      <td>a.p. moller-maersk</td>\n",
       "      <td>2007</td>\n",
       "      <td>A.P. Moller-Maersk_2007.TXT</td>\n",
       "      <td>1</td>\n",
       "      <td>0</td>\n",
       "      <td>0</td>\n",
       "    </tr>\n",
       "    <tr>\n",
       "      <th>1</th>\n",
       "      <td>,209          Current  - 135 527 662    Non-c...</td>\n",
       "      <td>a.p. moller-maersk</td>\n",
       "      <td>2007</td>\n",
       "      <td>A.P. Moller-Maersk_2007.TXT</td>\n",
       "      <td>0</td>\n",
       "      <td>0</td>\n",
       "      <td>0</td>\n",
       "    </tr>\n",
       "    <tr>\n",
       "      <th>2</th>\n",
       "      <td>9     Provisions made during the year  493 41...</td>\n",
       "      <td>a.p. moller-maersk</td>\n",
       "      <td>2007</td>\n",
       "      <td>A.P. Moller-Maersk_2007.TXT</td>\n",
       "      <td>0</td>\n",
       "      <td>0</td>\n",
       "      <td>0</td>\n",
       "    </tr>\n",
       "    <tr>\n",
       "      <th>3</th>\n",
       "      <td>delivery from banks, export credit organisat...</td>\n",
       "      <td>a.p. moller-maersk</td>\n",
       "      <td>2008</td>\n",
       "      <td>A.P. Moller-Maersk_2008.TXT</td>\n",
       "      <td>1</td>\n",
       "      <td>0</td>\n",
       "      <td>0</td>\n",
       "    </tr>\n",
       "    <tr>\n",
       "      <th>4</th>\n",
       "      <td>December 2008  6,853   447   9,711 17,011   ...</td>\n",
       "      <td>a.p. moller-maersk</td>\n",
       "      <td>2008</td>\n",
       "      <td>A.P. Moller-Maersk_2008.TXT</td>\n",
       "      <td>0</td>\n",
       "      <td>0</td>\n",
       "      <td>0</td>\n",
       "    </tr>\n",
       "  </tbody>\n",
       "</table>\n",
       "</div>"
      ],
      "text/plain": [
       "                                                text              company  \\\n",
       "0    -  creasing freight rates.    The purchase o...   a.p. moller-maersk   \n",
       "1   ,209          Current  - 135 527 662    Non-c...   a.p. moller-maersk   \n",
       "2   9     Provisions made during the year  493 41...   a.p. moller-maersk   \n",
       "3    delivery from banks, export credit organisat...   a.p. moller-maersk   \n",
       "4    December 2008  6,853   447   9,711 17,011   ...   a.p. moller-maersk   \n",
       "\n",
       "   year                     file_name  dummy1  dummy2  dummy3  \n",
       "0  2007   A.P. Moller-Maersk_2007.TXT       1       0       0  \n",
       "1  2007   A.P. Moller-Maersk_2007.TXT       0       0       0  \n",
       "2  2007   A.P. Moller-Maersk_2007.TXT       0       0       0  \n",
       "3  2008   A.P. Moller-Maersk_2008.TXT       1       0       0  \n",
       "4  2008   A.P. Moller-Maersk_2008.TXT       0       0       0  "
      ]
     },
     "execution_count": 2,
     "metadata": {},
     "output_type": "execute_result"
    }
   ],
   "source": [
    "df = pd.read_csv(\"private/clean_tax_risk_data.csv\")\n",
    "df.head()"
   ]
  },
  {
   "cell_type": "code",
   "execution_count": 3,
   "metadata": {},
   "outputs": [
    {
     "name": "stdout",
     "output_type": "stream",
     "text": [
      "26935\n"
     ]
    }
   ],
   "source": [
    "print(len(df))"
   ]
  },
  {
   "cell_type": "code",
   "execution_count": 4,
   "metadata": {},
   "outputs": [
    {
     "data": {
      "text/plain": [
       "26761"
      ]
     },
     "execution_count": 4,
     "metadata": {},
     "output_type": "execute_result"
    }
   ],
   "source": [
    "len(df.drop_duplicates())"
   ]
  },
  {
   "cell_type": "code",
   "execution_count": 5,
   "metadata": {},
   "outputs": [
    {
     "data": {
      "text/plain": [
       "26935"
      ]
     },
     "execution_count": 5,
     "metadata": {},
     "output_type": "execute_result"
    }
   ],
   "source": [
    "len(df)"
   ]
  },
  {
   "cell_type": "code",
   "execution_count": 6,
   "metadata": {},
   "outputs": [
    {
     "name": "stdout",
     "output_type": "stream",
     "text": [
      "26761\n"
     ]
    }
   ],
   "source": [
    "df = df.drop_duplicates()\n",
    "print(len(df))"
   ]
  },
  {
   "cell_type": "code",
   "execution_count": 7,
   "metadata": {},
   "outputs": [],
   "source": [
    "df.to_csv(\"private/clean_tax_risk_data.csv\", index=False)"
   ]
  },
  {
   "cell_type": "code",
   "execution_count": 8,
   "metadata": {},
   "outputs": [
    {
     "data": {
      "text/html": [
       "<div>\n",
       "<style scoped>\n",
       "    .dataframe tbody tr th:only-of-type {\n",
       "        vertical-align: middle;\n",
       "    }\n",
       "\n",
       "    .dataframe tbody tr th {\n",
       "        vertical-align: top;\n",
       "    }\n",
       "\n",
       "    .dataframe thead th {\n",
       "        text-align: right;\n",
       "    }\n",
       "</style>\n",
       "<table border=\"1\" class=\"dataframe\">\n",
       "  <thead>\n",
       "    <tr style=\"text-align: right;\">\n",
       "      <th></th>\n",
       "      <th>text</th>\n",
       "      <th>company</th>\n",
       "      <th>year</th>\n",
       "      <th>file_name</th>\n",
       "      <th>dummy1</th>\n",
       "      <th>dummy2</th>\n",
       "      <th>dummy3</th>\n",
       "    </tr>\n",
       "  </thead>\n",
       "  <tbody>\n",
       "    <tr>\n",
       "      <th>0</th>\n",
       "      <td>-  creasing freight rates.    The purchase o...</td>\n",
       "      <td>a.p. moller-maersk</td>\n",
       "      <td>2007</td>\n",
       "      <td>A.P. Moller-Maersk_2007.TXT</td>\n",
       "      <td>1</td>\n",
       "      <td>0</td>\n",
       "      <td>0</td>\n",
       "    </tr>\n",
       "    <tr>\n",
       "      <th>1</th>\n",
       "      <td>,209          Current  - 135 527 662    Non-c...</td>\n",
       "      <td>a.p. moller-maersk</td>\n",
       "      <td>2007</td>\n",
       "      <td>A.P. Moller-Maersk_2007.TXT</td>\n",
       "      <td>0</td>\n",
       "      <td>0</td>\n",
       "      <td>0</td>\n",
       "    </tr>\n",
       "    <tr>\n",
       "      <th>2</th>\n",
       "      <td>9     Provisions made during the year  493 41...</td>\n",
       "      <td>a.p. moller-maersk</td>\n",
       "      <td>2007</td>\n",
       "      <td>A.P. Moller-Maersk_2007.TXT</td>\n",
       "      <td>0</td>\n",
       "      <td>0</td>\n",
       "      <td>0</td>\n",
       "    </tr>\n",
       "    <tr>\n",
       "      <th>3</th>\n",
       "      <td>delivery from banks, export credit organisat...</td>\n",
       "      <td>a.p. moller-maersk</td>\n",
       "      <td>2008</td>\n",
       "      <td>A.P. Moller-Maersk_2008.TXT</td>\n",
       "      <td>1</td>\n",
       "      <td>0</td>\n",
       "      <td>0</td>\n",
       "    </tr>\n",
       "    <tr>\n",
       "      <th>4</th>\n",
       "      <td>December 2008  6,853   447   9,711 17,011   ...</td>\n",
       "      <td>a.p. moller-maersk</td>\n",
       "      <td>2008</td>\n",
       "      <td>A.P. Moller-Maersk_2008.TXT</td>\n",
       "      <td>0</td>\n",
       "      <td>0</td>\n",
       "      <td>0</td>\n",
       "    </tr>\n",
       "  </tbody>\n",
       "</table>\n",
       "</div>"
      ],
      "text/plain": [
       "                                                text              company  \\\n",
       "0    -  creasing freight rates.    The purchase o...   a.p. moller-maersk   \n",
       "1   ,209          Current  - 135 527 662    Non-c...   a.p. moller-maersk   \n",
       "2   9     Provisions made during the year  493 41...   a.p. moller-maersk   \n",
       "3    delivery from banks, export credit organisat...   a.p. moller-maersk   \n",
       "4    December 2008  6,853   447   9,711 17,011   ...   a.p. moller-maersk   \n",
       "\n",
       "   year                     file_name  dummy1  dummy2  dummy3  \n",
       "0  2007   A.P. Moller-Maersk_2007.TXT       1       0       0  \n",
       "1  2007   A.P. Moller-Maersk_2007.TXT       0       0       0  \n",
       "2  2007   A.P. Moller-Maersk_2007.TXT       0       0       0  \n",
       "3  2008   A.P. Moller-Maersk_2008.TXT       1       0       0  \n",
       "4  2008   A.P. Moller-Maersk_2008.TXT       0       0       0  "
      ]
     },
     "execution_count": 8,
     "metadata": {},
     "output_type": "execute_result"
    }
   ],
   "source": [
    "df = pd.read_csv(\"private/clean_tax_risk_data.csv\")\n",
    "df.head()"
   ]
  },
  {
   "cell_type": "code",
   "execution_count": 9,
   "metadata": {},
   "outputs": [
    {
     "name": "stdout",
     "output_type": "stream",
     "text": [
      "26761\n"
     ]
    }
   ],
   "source": [
    "print(len(df))"
   ]
  },
  {
   "cell_type": "code",
   "execution_count": null,
   "metadata": {},
   "outputs": [],
   "source": []
  }
 ],
 "metadata": {
  "kernelspec": {
   "display_name": "Python 3",
   "language": "python",
   "name": "python3"
  },
  "language_info": {
   "codemirror_mode": {
    "name": "ipython",
    "version": 3
   },
   "file_extension": ".py",
   "mimetype": "text/x-python",
   "name": "python",
   "nbconvert_exporter": "python",
   "pygments_lexer": "ipython3",
   "version": "3.6.4"
  }
 },
 "nbformat": 4,
 "nbformat_minor": 2
}
