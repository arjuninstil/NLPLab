{
 "cells": [
  {
   "cell_type": "code",
   "execution_count": 1,
   "metadata": {},
   "outputs": [],
   "source": [
    "import numpy as np\n",
    "import pandas as pd\n",
    "from sklearn.feature_extraction import text\n",
    "from sklearn.feature_extraction.text import TfidfVectorizer\n",
    "from sklearn.cluster import KMeans\n",
    "from nltk.tokenize import RegexpTokenizer\n",
    "from nltk.stem.snowball import SnowballStemmer"
   ]
  },
  {
   "cell_type": "code",
   "execution_count": 2,
   "metadata": {},
   "outputs": [
    {
     "data": {
      "text/html": [
       "<div>\n",
       "<style scoped>\n",
       "    .dataframe tbody tr th:only-of-type {\n",
       "        vertical-align: middle;\n",
       "    }\n",
       "\n",
       "    .dataframe tbody tr th {\n",
       "        vertical-align: top;\n",
       "    }\n",
       "\n",
       "    .dataframe thead th {\n",
       "        text-align: right;\n",
       "    }\n",
       "</style>\n",
       "<table border=\"1\" class=\"dataframe\">\n",
       "  <thead>\n",
       "    <tr style=\"text-align: right;\">\n",
       "      <th></th>\n",
       "      <th>index</th>\n",
       "      <th>text</th>\n",
       "      <th>company</th>\n",
       "      <th>year</th>\n",
       "      <th>file_name</th>\n",
       "      <th>dummy1</th>\n",
       "      <th>dummy2</th>\n",
       "      <th>dummy3</th>\n",
       "    </tr>\n",
       "  </thead>\n",
       "  <tbody>\n",
       "    <tr>\n",
       "      <th>0</th>\n",
       "      <td>6</td>\n",
       "      <td>\\x92s envi- ronmental impact and its social r...</td>\n",
       "      <td>a.p. moller-maersk</td>\n",
       "      <td>2009</td>\n",
       "      <td>A.P. Moller-Maersk_2009.TXT</td>\n",
       "      <td>1</td>\n",
       "      <td>1</td>\n",
       "      <td>1</td>\n",
       "    </tr>\n",
       "    <tr>\n",
       "      <th>1</th>\n",
       "      <td>9</td>\n",
       "      <td>global human rights standards associated wi...</td>\n",
       "      <td>a.p. moller-maersk</td>\n",
       "      <td>2011</td>\n",
       "      <td>A.P. Moller-Maersk_2011.TXT</td>\n",
       "      <td>1</td>\n",
       "      <td>1</td>\n",
       "      <td>1</td>\n",
       "    </tr>\n",
       "    <tr>\n",
       "      <th>2</th>\n",
       "      <td>10</td>\n",
       "      <td>set by OECD for multinational  enterprises e...</td>\n",
       "      <td>a.p. moller-maersk</td>\n",
       "      <td>2011</td>\n",
       "      <td>A.P. Moller-Maersk_2011.TXT</td>\n",
       "      <td>1</td>\n",
       "      <td>1</td>\n",
       "      <td>1</td>\n",
       "    </tr>\n",
       "    <tr>\n",
       "      <th>3</th>\n",
       "      <td>11</td>\n",
       "      <td>been developed with the intention of closin...</td>\n",
       "      <td>a.p. moller-maersk</td>\n",
       "      <td>2011</td>\n",
       "      <td>A.P. Moller-Maersk_2011.TXT</td>\n",
       "      <td>1</td>\n",
       "      <td>1</td>\n",
       "      <td>1</td>\n",
       "    </tr>\n",
       "    <tr>\n",
       "      <th>4</th>\n",
       "      <td>12</td>\n",
       "      <td>has a Responsible Procurement Programme, hea...</td>\n",
       "      <td>a.p. moller-maersk</td>\n",
       "      <td>2011</td>\n",
       "      <td>A.P. Moller-Maersk_2011.TXT</td>\n",
       "      <td>1</td>\n",
       "      <td>1</td>\n",
       "      <td>1</td>\n",
       "    </tr>\n",
       "  </tbody>\n",
       "</table>\n",
       "</div>"
      ],
      "text/plain": [
       "   index                                               text  \\\n",
       "0      6   \\x92s envi- ronmental impact and its social r...   \n",
       "1      9     global human rights standards associated wi...   \n",
       "2     10    set by OECD for multinational  enterprises e...   \n",
       "3     11     been developed with the intention of closin...   \n",
       "4     12    has a Responsible Procurement Programme, hea...   \n",
       "\n",
       "              company  year                    file_name  dummy1  dummy2  \\\n",
       "0  a.p. moller-maersk  2009  A.P. Moller-Maersk_2009.TXT       1       1   \n",
       "1  a.p. moller-maersk  2011  A.P. Moller-Maersk_2011.TXT       1       1   \n",
       "2  a.p. moller-maersk  2011  A.P. Moller-Maersk_2011.TXT       1       1   \n",
       "3  a.p. moller-maersk  2011  A.P. Moller-Maersk_2011.TXT       1       1   \n",
       "4  a.p. moller-maersk  2011  A.P. Moller-Maersk_2011.TXT       1       1   \n",
       "\n",
       "   dummy3  \n",
       "0       1  \n",
       "1       1  \n",
       "2       1  \n",
       "3       1  \n",
       "4       1  "
      ]
     },
     "execution_count": 2,
     "metadata": {},
     "output_type": "execute_result"
    }
   ],
   "source": [
    "df = pd.read_csv(\"private/taxrisk.csv\")\n",
    "dummy3_df = df[df['dummy3']==1].copy()\n",
    "dummy3_df.reset_index(inplace=True)\n",
    "dummy3_df.head()"
   ]
  },
  {
   "cell_type": "code",
   "execution_count": 3,
   "metadata": {},
   "outputs": [],
   "source": [
    "punc = ['.', ',', '\"', \"'\", '?', '!',\n",
    "        ':', ';', '(', ')', '[', ']',\n",
    "        '{', '}', '%']\n",
    "\n",
    "stop_words = text.ENGLISH_STOP_WORDS.union(punc)\n",
    "txts = dummy3_df['text'].values\n",
    "stemmer = SnowballStemmer('english')\n",
    "tokenizer = RegexpTokenizer(r'[a-zA-Z\\']+')\n",
    "\n",
    "def tokenize(txt):\n",
    "    return [stemmer.stem(word) for word \n",
    "            in tokenizer.tokenize(txt.lower())]\n",
    "\n",
    "vectorizer = TfidfVectorizer(stop_words=stop_words,\n",
    "                              tokenizer=tokenize,\n",
    "                              max_features=100)\n",
    "X = vectorizer.fit_transform(txts)\n",
    "words = vectorizer.get_feature_names()"
   ]
  },
  {
   "cell_type": "code",
   "execution_count": 4,
   "metadata": {},
   "outputs": [],
   "source": [
    "def run_k_means(n_clusters=5):\n",
    "    kmeans = KMeans(n_clusters=n_clusters, n_init=5, n_jobs=-1)\n",
    "    kmeans.fit(X)\n",
    "    common_words = kmeans.cluster_centers_.argsort()[:, -1:-11:-1]\n",
    "    for num, centroid in enumerate(common_words):\n",
    "        print(str(num) + ': ' + ', '.join(words[word] for word\n",
    "                                           in centroid))\n",
    "    dummy3_df['cluster'] = kmeans.predict(vectorizer.transform(dummy3_df.text))\n",
    "    print(\"\\nCluster's distribution: \")\n",
    "    print(dummy3_df['cluster'].value_counts())\n",
    "\n",
    "    print(\"\\nOne particular company: \")\n",
    "    print(dummy3_df[dummy3_df['company'] == 'a.p. moller-maersk']['cluster'].value_counts())"
   ]
  },
  {
   "cell_type": "code",
   "execution_count": 5,
   "metadata": {},
   "outputs": [
    {
     "name": "stdout",
     "output_type": "stream",
     "text": [
      "0: x, tax, s, group, risk, manag, strategi, busi, liabil, polici\n",
      "1: tax, risk, law, chang, author, group, price, result, manag, legisl\n",
      "2: depart, tax, group, risk, ensur, x, monitor, s, insur, manag\n",
      "3: tax, committe, xa, group, risk, provis, audit, report, manag, x\n",
      "4: risk, tax, control, manag, group, polici, report, intern, compani, financi\n",
      "\n",
      "Cluster's distribution: \n",
      "1    593\n",
      "3    549\n",
      "4    498\n",
      "0    479\n",
      "2    274\n",
      "Name: cluster, dtype: int64\n",
      "\n",
      "One particular company: \n",
      "1    14\n",
      "4     2\n",
      "Name: cluster, dtype: int64\n"
     ]
    }
   ],
   "source": [
    "run_k_means(5)"
   ]
  },
  {
   "cell_type": "code",
   "execution_count": 6,
   "metadata": {},
   "outputs": [
    {
     "name": "stdout",
     "output_type": "stream",
     "text": [
      "0: tax, risk, law, chang, author, group, manag, result, price, assess\n",
      "1: tax, risk, committe, manag, group, control, report, audit, polici, board\n",
      "2: depart, tax, group, risk, monitor, x, insur, legal, ensur, manag\n",
      "3: xa, tax, risk, group, x, oper, manag, s, report, taxat\n",
      "4: tax, x, s, group, risk, manag, strategi, polici, busi, control\n",
      "\n",
      "Cluster's distribution: \n",
      "0    828\n",
      "4    575\n",
      "1    554\n",
      "2    286\n",
      "3    150\n",
      "Name: cluster, dtype: int64\n",
      "\n",
      "One particular company: \n",
      "0    15\n",
      "4     1\n",
      "Name: cluster, dtype: int64\n"
     ]
    }
   ],
   "source": [
    "run_k_means(5)"
   ]
  },
  {
   "cell_type": "code",
   "execution_count": null,
   "metadata": {},
   "outputs": [],
   "source": []
  }
 ],
 "metadata": {
  "kernelspec": {
   "display_name": "Python 3",
   "language": "python",
   "name": "python3"
  },
  "language_info": {
   "codemirror_mode": {
    "name": "ipython",
    "version": 3
   },
   "file_extension": ".py",
   "mimetype": "text/x-python",
   "name": "python",
   "nbconvert_exporter": "python",
   "pygments_lexer": "ipython3",
   "version": "3.6.4"
  }
 },
 "nbformat": 4,
 "nbformat_minor": 2
}
