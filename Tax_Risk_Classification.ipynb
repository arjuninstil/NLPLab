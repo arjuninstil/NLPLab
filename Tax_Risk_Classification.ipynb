{
 "cells": [
  {
   "cell_type": "markdown",
   "metadata": {},
   "source": [
    "## Tax Risk"
   ]
  },
  {
   "cell_type": "code",
   "execution_count": 1,
   "metadata": {},
   "outputs": [
    {
     "name": "stderr",
     "output_type": "stream",
     "text": [
      "/Users/torayeff/anaconda3/lib/python3.6/site-packages/h5py/__init__.py:36: FutureWarning: Conversion of the second argument of issubdtype from `float` to `np.floating` is deprecated. In future, it will be treated as `np.float64 == np.dtype(float).type`.\n",
      "  from ._conv import register_converters as _register_converters\n",
      "Using TensorFlow backend.\n"
     ]
    }
   ],
   "source": [
    "from __future__ import print_function\n",
    "\n",
    "from keras.preprocessing import sequence\n",
    "from keras.models import Sequential\n",
    "from keras.layers import Dense, Dropout, Activation\n",
    "from keras.layers import Embedding\n",
    "from keras.layers import LSTM\n",
    "from keras.layers import Conv1D, MaxPooling1D\n",
    "from keras.preprocessing.text import Tokenizer\n",
    "from sklearn.model_selection import train_test_split\n",
    "from sklearn import metrics\n",
    "\n",
    "import pandas as pd\n",
    "import numpy as np"
   ]
  },
  {
   "cell_type": "code",
   "execution_count": 2,
   "metadata": {},
   "outputs": [],
   "source": [
    "# Embedding\n",
    "max_features = 100\n",
    "maxlen = 100\n",
    "embedding_size = 32\n",
    "\n",
    "# Convolution\n",
    "kernel_size = 5\n",
    "filters = 64\n",
    "pool_size = 4\n",
    "\n",
    "# LSTM\n",
    "lstm_output_size = 70\n",
    "\n",
    "# Training\n",
    "batch_size = 30\n",
    "epochs = 1"
   ]
  },
  {
   "cell_type": "code",
   "execution_count": 3,
   "metadata": {},
   "outputs": [],
   "source": [
    "train_df = pd.read_csv('private/sorted_train.csv')\n",
    "test_df = pd.read_csv('private/sorted_test.csv')"
   ]
  },
  {
   "cell_type": "code",
   "execution_count": 4,
   "metadata": {},
   "outputs": [],
   "source": [
    "tok = Tokenizer(num_words=max_features, split=' ')\n",
    "tok.fit_on_texts(train_df['text'].values)\n",
    "X_train = tok.texts_to_sequences(train_df['text'].values)\n",
    "Y_train = pd.get_dummies(train_df['dummy1']).values\n",
    "\n",
    "X_test = tok.texts_to_sequences(test_df['text'].values)\n",
    "Y_test = pd.get_dummies(test_df['dummy1']).values\n",
    "\n",
    "X_train = sequence.pad_sequences(X_train, maxlen=maxlen)\n",
    "X_test = sequence.pad_sequences(X_test, maxlen=maxlen)"
   ]
  },
  {
   "cell_type": "markdown",
   "metadata": {},
   "source": [
    "### Build a model"
   ]
  },
  {
   "cell_type": "code",
   "execution_count": 5,
   "metadata": {},
   "outputs": [
    {
     "name": "stdout",
     "output_type": "stream",
     "text": [
      "Model summary: \n",
      "_________________________________________________________________\n",
      "Layer (type)                 Output Shape              Param #   \n",
      "=================================================================\n",
      "embedding_1 (Embedding)      (None, 100, 32)           3200      \n",
      "_________________________________________________________________\n",
      "dropout_1 (Dropout)          (None, 100, 32)           0         \n",
      "_________________________________________________________________\n",
      "conv1d_1 (Conv1D)            (None, 96, 64)            10304     \n",
      "_________________________________________________________________\n",
      "max_pooling1d_1 (MaxPooling1 (None, 24, 64)            0         \n",
      "_________________________________________________________________\n",
      "lstm_1 (LSTM)                (None, 70)                37800     \n",
      "_________________________________________________________________\n",
      "dense_1 (Dense)              (None, 2)                 142       \n",
      "_________________________________________________________________\n",
      "activation_1 (Activation)    (None, 2)                 0         \n",
      "=================================================================\n",
      "Total params: 51,446\n",
      "Trainable params: 51,446\n",
      "Non-trainable params: 0\n",
      "_________________________________________________________________\n",
      "None\n",
      "Train...\n",
      "Epoch 1/1\n",
      "20013/20013 [==============================] - 18s 899us/step - loss: 0.2721 - acc: 0.8780\n",
      "20013/20013 [==============================] - 4s 191us/step\n",
      "Score on train set:  0.24783152184644447\n",
      "Accuracy on train set:  0.8915454898972756\n",
      "6748/6748 [==============================] - 1s 188us/step\n",
      "Score on test set:  0.35713862693798465\n",
      "Accuracy on test set:  0.8372851172379296\n"
     ]
    }
   ],
   "source": [
    "model = Sequential()\n",
    "model.add(Embedding(max_features, embedding_size, \n",
    "                    input_length=maxlen))\n",
    "model.add(Dropout(0.25))\n",
    "model.add(Conv1D(filters,\n",
    "                 kernel_size,\n",
    "                 padding='valid',\n",
    "                 activation='relu',\n",
    "                 strides=1))\n",
    "model.add(MaxPooling1D(pool_size=pool_size))\n",
    "model.add(LSTM(lstm_output_size))\n",
    "model.add(Dense(2))\n",
    "model.add(Activation('sigmoid'))\n",
    "\n",
    "model.compile(loss='binary_crossentropy',\n",
    "              optimizer='adam',\n",
    "              metrics=['accuracy'])\n",
    "print(\"Model summary: \")\n",
    "print(model.summary())\n",
    "\n",
    "print('Train...')\n",
    "model.fit(X_train, Y_train,\n",
    "          batch_size=batch_size,\n",
    "          epochs=epochs)\n",
    "\n",
    "score, acc = model.evaluate(X_train, Y_train, batch_size=batch_size)\n",
    "print(\"Score on train set: \", score)\n",
    "print(\"Accuracy on train set: \", acc)\n",
    "\n",
    "score, acc = model.evaluate(X_test, Y_test, batch_size=batch_size)\n",
    "print(\"Score on test set: \", score)\n",
    "print(\"Accuracy on test set: \", acc)"
   ]
  },
  {
   "cell_type": "code",
   "execution_count": 6,
   "metadata": {},
   "outputs": [],
   "source": [
    "Y_pred = model.predict(X_test)\n",
    "Y_pred = (Y_pred > 0.5).astype(int)"
   ]
  },
  {
   "cell_type": "code",
   "execution_count": 7,
   "metadata": {},
   "outputs": [
    {
     "name": "stdout",
     "output_type": "stream",
     "text": [
      "True positive:  1502\n",
      "False positive:  1020\n",
      "True negative:  4134\n",
      "False negative:  92\n",
      "Precision: 0.5956\n",
      "Recall: 0.9423\n",
      "F1-score: 0.7298\n",
      "Accuracy: 0.8352\n"
     ]
    }
   ],
   "source": [
    "tp = 0\n",
    "tn = 0\n",
    "fp = 0\n",
    "fn = 0\n",
    "\n",
    "# [0, 1] positive, i.e, tax risk exists\n",
    "# [1, 0] negative, no tax risk\n",
    "for i in range(len(Y_test)):\n",
    "    # positive\n",
    "    if np.argmax(Y_test[i]) == 1:\n",
    "        # positive\n",
    "        if np.argmax(Y_pred[i]) == 1:\n",
    "            tp += 1\n",
    "        # negative\n",
    "        else:\n",
    "            fn += 1\n",
    "    # negative        \n",
    "    else:\n",
    "        # negative\n",
    "        if np.argmax(Y_pred[i] == 0):\n",
    "            tn +=1\n",
    "        # positive\n",
    "        else:\n",
    "            fp += 1\n",
    "print(\"True positive: \", tp)\n",
    "print(\"False positive: \", fp)\n",
    "print(\"True negative: \", tn)\n",
    "print(\"False negative: \", fn)\n",
    "cm = [\n",
    "    [tn, fp],\n",
    "    [fn, tp]\n",
    "]\n",
    "precision = tp/(tp + fp)\n",
    "recall = tp/(tp + fn)\n",
    "f1_score = 2 * precision * recall / (precision + recall)\n",
    "accuracy = (tp + tn) / (tp + tn + fp + fn)\n",
    "print(\"Precision: %.4lf\"%precision)\n",
    "print(\"Recall: %.4lf\"%recall)\n",
    "print(\"F1-score: %.4lf\"%f1_score)\n",
    "print(\"Accuracy: %.4lf\"%accuracy)"
   ]
  },
  {
   "cell_type": "code",
   "execution_count": 8,
   "metadata": {},
   "outputs": [],
   "source": [
    "import matplotlib.pyplot as plt\n",
    "import seaborn as sns\n",
    "def plot_confusion_matrix(cm, classes):\n",
    "    \"\"\"Plot confusion matrix from metrics.confusion_matrix numpy.ndarray\n",
    "    \n",
    "    Args:\n",
    "        cm: numpy.ndarray confusion matrix which is returned from metrics.confusion matrix\n",
    "        classes: list of class names\n",
    "    \"\"\"\n",
    "    if len(classes) == 2:\n",
    "        # the count of true negatives is C_{0,0}, \n",
    "        # false negatives is C_{1,0}, \n",
    "        # true positives is C_{1,1}, \n",
    "        # false positives is C_{0,1}.\n",
    "        classes = [classes[0]+\": (- class)\", classes[1]+\": (+ class)\"]\n",
    "        \n",
    "    cm_df = pd.DataFrame(cm, index=classes, columns=classes)\n",
    "    fig = plt.figure()\n",
    "    heatmap = sns.heatmap(cm_df, annot=True, fmt=\"d\", cmap=\"Blues\")\n",
    "    heatmap.xaxis.set_ticklabels(heatmap.xaxis.get_ticklabels())\n",
    "    heatmap.yaxis.set_ticklabels(heatmap.yaxis.get_ticklabels())\n",
    "    plt.xlabel(\"PREDICTED LABEL\")\n",
    "    plt.ylabel(\"TRUE LABEL\")\n",
    "\n",
    "def get_scores(cm):\n",
    "    \"\"\"Return precision, recall, accuracy, f1-score from confusion matrix.\n",
    "       the count of true negatives is cm[0,0]\n",
    "       the count of false negatives is cm[1, 0]\n",
    "       the count of true positives is cm[1, 1]\n",
    "       the count of false positives is cm[0, 1]\n",
    "    \n",
    "    Args:\n",
    "        cm: numpy.ndarray confusion matrix which is returned from metrics.confusion matrix\n",
    "    \n",
    "    Returns:\n",
    "        scores: dictionary of scores\n",
    "    \"\"\"\n",
    "    tn, fp, fn, tp = cm.ravel()\n",
    "    \n",
    "    scores = {}\n",
    "    scores['precision'] = tp/(tp + fp)\n",
    "    scores['recall'] = tp/(tp + fn)\n",
    "    scores['accuracy'] = (tp + tn)/(tp + tn + fp + fn)\n",
    "    scores['f1'] = 2*scores['precision']*scores['recall']/(scores['precision'] + scores['recall'])\n",
    "    \n",
    "    return scores    "
   ]
  },
  {
   "cell_type": "code",
   "execution_count": 9,
   "metadata": {},
   "outputs": [
    {
     "data": {
      "image/png": "[encoded data removed]",
      "text/plain": [
       "<matplotlib.figure.Figure at 0x10e27f128>"
      ]
     },
     "metadata": {},
     "output_type": "display_data"
    }
   ],
   "source": [
    "plot_confusion_matrix(cm, ['0', '1'])"
   ]
  },
  {
   "cell_type": "code",
   "execution_count": null,
   "metadata": {},
   "outputs": [],
   "source": []
  }
 ],
 "metadata": {
  "kernelspec": {
   "display_name": "Python 3",
   "language": "python",
   "name": "python3"
  },
  "language_info": {
   "codemirror_mode": {
    "name": "ipython",
    "version": 3
   },
   "file_extension": ".py",
   "mimetype": "text/x-python",
   "name": "python",
   "nbconvert_exporter": "python",
   "pygments_lexer": "ipython3",
   "version": "3.6.4"
  }
 },
 "nbformat": 4,
 "nbformat_minor": 2
}
