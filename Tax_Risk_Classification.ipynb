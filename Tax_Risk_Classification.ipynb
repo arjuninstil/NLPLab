{
 "cells": [
  {
   "cell_type": "markdown",
   "metadata": {},
   "source": [
    "## Tax Risk"
   ]
  },
  {
   "cell_type": "code",
   "execution_count": 2,
   "metadata": {},
   "outputs": [],
   "source": [
    "from __future__ import print_function\n",
    "\n",
    "from keras.preprocessing import sequence\n",
    "from keras.models import Sequential\n",
    "from keras.layers import Dense, Dropout, Activation\n",
    "from keras.layers import Embedding\n",
    "from keras.layers import LSTM\n",
    "from keras.layers import Conv1D, MaxPooling1D\n",
    "from keras.preprocessing.text import Tokenizer\n",
    "from sklearn.model_selection import train_test_split\n",
    "from sklearn import metrics\n",
    "\n",
    "import pandas as pd\n",
    "import numpy as np"
   ]
  },
  {
   "cell_type": "code",
   "execution_count": 108,
   "metadata": {},
   "outputs": [],
   "source": [
    "# Embedding\n",
    "max_features = 1000\n",
    "maxlen = 500\n",
    "embedding_size = 64\n",
    "\n",
    "# Convolution\n",
    "kernel_size = 5\n",
    "filters = 64\n",
    "pool_size = 4\n",
    "\n",
    "# LSTM\n",
    "lstm_output_size = 70\n",
    "\n",
    "# Training\n",
    "batch_size = 30\n",
    "epochs = 1"
   ]
  },
  {
   "cell_type": "markdown",
   "metadata": {},
   "source": [
    "### Read data"
   ]
  },
  {
   "cell_type": "code",
   "execution_count": 125,
   "metadata": {},
   "outputs": [
    {
     "data": {
      "text/html": [
       "<div>\n",
       "<style scoped>\n",
       "    .dataframe tbody tr th:only-of-type {\n",
       "        vertical-align: middle;\n",
       "    }\n",
       "\n",
       "    .dataframe tbody tr th {\n",
       "        vertical-align: top;\n",
       "    }\n",
       "\n",
       "    .dataframe thead th {\n",
       "        text-align: right;\n",
       "    }\n",
       "</style>\n",
       "<table border=\"1\" class=\"dataframe\">\n",
       "  <thead>\n",
       "    <tr style=\"text-align: right;\">\n",
       "      <th></th>\n",
       "      <th>text</th>\n",
       "      <th>company</th>\n",
       "      <th>year</th>\n",
       "      <th>file_name</th>\n",
       "      <th>dummy1</th>\n",
       "      <th>dummy2</th>\n",
       "      <th>dummy3</th>\n",
       "    </tr>\n",
       "  </thead>\n",
       "  <tbody>\n",
       "    <tr>\n",
       "      <th>0</th>\n",
       "      <td>-  creasing freight rates.    The purchase o...</td>\n",
       "      <td>a.p. moller-maersk</td>\n",
       "      <td>2007</td>\n",
       "      <td>A.P. Moller-Maersk_2007.TXT</td>\n",
       "      <td>1</td>\n",
       "      <td>0</td>\n",
       "      <td>0</td>\n",
       "    </tr>\n",
       "    <tr>\n",
       "      <th>1</th>\n",
       "      <td>delivery from banks, export credit organisat...</td>\n",
       "      <td>a.p. moller-maersk</td>\n",
       "      <td>2008</td>\n",
       "      <td>A.P. Moller-Maersk_2008.TXT</td>\n",
       "      <td>1</td>\n",
       "      <td>0</td>\n",
       "      <td>0</td>\n",
       "    </tr>\n",
       "    <tr>\n",
       "      <th>2</th>\n",
       "      <td>\\x92s envi- ronmental impact and its social r...</td>\n",
       "      <td>a.p. moller-maersk</td>\n",
       "      <td>2009</td>\n",
       "      <td>A.P. Moller-Maersk_2009.TXT</td>\n",
       "      <td>1</td>\n",
       "      <td>1</td>\n",
       "      <td>1</td>\n",
       "    </tr>\n",
       "    <tr>\n",
       "      <th>3</th>\n",
       "      <td>global human rights standards associated wi...</td>\n",
       "      <td>a.p. moller-maersk</td>\n",
       "      <td>2011</td>\n",
       "      <td>A.P. Moller-Maersk_2011.TXT</td>\n",
       "      <td>1</td>\n",
       "      <td>1</td>\n",
       "      <td>1</td>\n",
       "    </tr>\n",
       "    <tr>\n",
       "      <th>4</th>\n",
       "      <td>Human rights It is a priority for the Group ...</td>\n",
       "      <td>a.p. moller-maersk</td>\n",
       "      <td>2012</td>\n",
       "      <td>A.P. Moller-Maersk_2012.TXT</td>\n",
       "      <td>1</td>\n",
       "      <td>1</td>\n",
       "      <td>1</td>\n",
       "    </tr>\n",
       "  </tbody>\n",
       "</table>\n",
       "</div>"
      ],
      "text/plain": [
       "                                                text             company  \\\n",
       "0    -  creasing freight rates.    The purchase o...  a.p. moller-maersk   \n",
       "1    delivery from banks, export credit organisat...  a.p. moller-maersk   \n",
       "2   \\x92s envi- ronmental impact and its social r...  a.p. moller-maersk   \n",
       "3     global human rights standards associated wi...  a.p. moller-maersk   \n",
       "4    Human rights It is a priority for the Group ...  a.p. moller-maersk   \n",
       "\n",
       "   year                    file_name  dummy1  dummy2  dummy3  \n",
       "0  2007  A.P. Moller-Maersk_2007.TXT       1       0       0  \n",
       "1  2008  A.P. Moller-Maersk_2008.TXT       1       0       0  \n",
       "2  2009  A.P. Moller-Maersk_2009.TXT       1       1       1  \n",
       "3  2011  A.P. Moller-Maersk_2011.TXT       1       1       1  \n",
       "4  2012  A.P. Moller-Maersk_2012.TXT       1       1       1  "
      ]
     },
     "execution_count": 125,
     "metadata": {},
     "output_type": "execute_result"
    }
   ],
   "source": [
    "# train_df = pd.read_csv('private/sorted_train.csv')\n",
    "# test_df = pd.read_csv('private/sorted_test.csv')\n",
    "df = pd.read_csv('private/tax_risk_sorted_and_merged.csv')\n",
    "df.head()"
   ]
  },
  {
   "cell_type": "code",
   "execution_count": 127,
   "metadata": {},
   "outputs": [
    {
     "data": {
      "text/html": [
       "<div>\n",
       "<style scoped>\n",
       "    .dataframe tbody tr th:only-of-type {\n",
       "        vertical-align: middle;\n",
       "    }\n",
       "\n",
       "    .dataframe tbody tr th {\n",
       "        vertical-align: top;\n",
       "    }\n",
       "\n",
       "    .dataframe thead th {\n",
       "        text-align: right;\n",
       "    }\n",
       "</style>\n",
       "<table border=\"1\" class=\"dataframe\">\n",
       "  <thead>\n",
       "    <tr style=\"text-align: right;\">\n",
       "      <th></th>\n",
       "      <th>text</th>\n",
       "      <th>company</th>\n",
       "      <th>year</th>\n",
       "      <th>file_name</th>\n",
       "      <th>dummy1</th>\n",
       "      <th>dummy2</th>\n",
       "      <th>dummy3</th>\n",
       "    </tr>\n",
       "  </thead>\n",
       "  <tbody>\n",
       "    <tr>\n",
       "      <th>1552</th>\n",
       "      <td>economic  cycle. The discount factor is dete...</td>\n",
       "      <td>fresenius</td>\n",
       "      <td>2011</td>\n",
       "      <td>Fresenius_2011(2).TXT</td>\n",
       "      <td>0</td>\n",
       "      <td>0</td>\n",
       "      <td>0</td>\n",
       "    </tr>\n",
       "    <tr>\n",
       "      <th>1566</th>\n",
       "      <td>circumstances, there are adequate  liquid re...</td>\n",
       "      <td>fresnillo</td>\n",
       "      <td>2012</td>\n",
       "      <td>Fresnillo_2012.TXT</td>\n",
       "      <td>1</td>\n",
       "      <td>1</td>\n",
       "      <td>0</td>\n",
       "    </tr>\n",
       "    <tr>\n",
       "      <th>2691</th>\n",
       "      <td>the estimated weighted average cost of capit...</td>\n",
       "      <td>merlin entertainments</td>\n",
       "      <td>2009</td>\n",
       "      <td>Merlin Entertainments_2009.TXT</td>\n",
       "      <td>0</td>\n",
       "      <td>0</td>\n",
       "      <td>0</td>\n",
       "    </tr>\n",
       "    <tr>\n",
       "      <th>4533</th>\n",
       "      <td>subsequent planning years. Cash flows  beyon...</td>\n",
       "      <td>vopak</td>\n",
       "      <td>2012</td>\n",
       "      <td>Vopak_2012.TXT</td>\n",
       "      <td>0</td>\n",
       "      <td>0</td>\n",
       "      <td>0</td>\n",
       "    </tr>\n",
       "    <tr>\n",
       "      <th>1398</th>\n",
       "      <td>were to leave, Eurofins may have difficulty ...</td>\n",
       "      <td>eurofins scientific</td>\n",
       "      <td>2014</td>\n",
       "      <td>Eurofins Scientific_2014.TXT</td>\n",
       "      <td>1</td>\n",
       "      <td>1</td>\n",
       "      <td>0</td>\n",
       "    </tr>\n",
       "  </tbody>\n",
       "</table>\n",
       "</div>"
      ],
      "text/plain": [
       "                                                   text  \\\n",
       "1552    economic  cycle. The discount factor is dete...   \n",
       "1566    circumstances, there are adequate  liquid re...   \n",
       "2691    the estimated weighted average cost of capit...   \n",
       "4533    subsequent planning years. Cash flows  beyon...   \n",
       "1398    were to leave, Eurofins may have difficulty ...   \n",
       "\n",
       "                    company  year                       file_name  dummy1  \\\n",
       "1552              fresenius  2011           Fresenius_2011(2).TXT       0   \n",
       "1566              fresnillo  2012              Fresnillo_2012.TXT       1   \n",
       "2691  merlin entertainments  2009  Merlin Entertainments_2009.TXT       0   \n",
       "4533                  vopak  2012                  Vopak_2012.TXT       0   \n",
       "1398    eurofins scientific  2014    Eurofins Scientific_2014.TXT       1   \n",
       "\n",
       "      dummy2  dummy3  \n",
       "1552       0       0  \n",
       "1566       1       0  \n",
       "2691       0       0  \n",
       "4533       0       0  \n",
       "1398       1       0  "
      ]
     },
     "execution_count": 127,
     "metadata": {},
     "output_type": "execute_result"
    }
   ],
   "source": [
    "df = df.reindex(np.random.permutation(df.index))\n",
    "df.head()"
   ]
  },
  {
   "cell_type": "code",
   "execution_count": 128,
   "metadata": {},
   "outputs": [
    {
     "name": "stdout",
     "output_type": "stream",
     "text": [
      "Training set size: 3506\n",
      "Test set size: 1169\n"
     ]
    }
   ],
   "source": [
    "offset = int(len(df) * 0.75)\n",
    "train_df = df[:offset]\n",
    "test_df = df[offset:]\n",
    "print(\"Training set size: {}\".format(len(train_df)))\n",
    "print(\"Test set size: {}\".format(len(test_df)))"
   ]
  },
  {
   "cell_type": "code",
   "execution_count": 130,
   "metadata": {},
   "outputs": [
    {
     "name": "stdout",
     "output_type": "stream",
     "text": [
      "Training set: \n",
      "Negative class size: 3064\n",
      "Positive class size: 442\n"
     ]
    }
   ],
   "source": [
    "print(\"Training set: \")\n",
    "print(\"Negative class size: {}\".format(len(train_df[(train_df['dummy3'] == 0)])))\n",
    "print(\"Positive class size: {}\".format(len(train_df[(train_df['dummy3'] == 1)])))"
   ]
  },
  {
   "cell_type": "code",
   "execution_count": 131,
   "metadata": {},
   "outputs": [],
   "source": [
    "new_train = train_df[(train_df['dummy3'] == 0)][:473].append(train_df[(train_df['dummy3'] == 1)], ignore_index=True)"
   ]
  },
  {
   "cell_type": "code",
   "execution_count": 133,
   "metadata": {},
   "outputs": [
    {
     "name": "stdout",
     "output_type": "stream",
     "text": [
      "Training set: \n",
      "Negative class size: 473\n",
      "Positive class size: 442\n"
     ]
    }
   ],
   "source": [
    "new_train.head()\n",
    "train_df = new_train.copy()\n",
    "print(\"Training set: \")\n",
    "print(\"Negative class size: {}\".format(len(train_df[(train_df['dummy3'] == 0)])))\n",
    "print(\"Positive class size: {}\".format(len(train_df[(train_df['dummy3'] == 1)])))"
   ]
  },
  {
   "cell_type": "code",
   "execution_count": 134,
   "metadata": {},
   "outputs": [
    {
     "name": "stdout",
     "output_type": "stream",
     "text": [
      "Training set: \n",
      "Negative class size: 473\n",
      "Positive class size: 442\n"
     ]
    }
   ],
   "source": [
    "print(\"Training set: \")\n",
    "print(\"Negative class size: {}\".format(len(train_df[(train_df['dummy3'] == 0)])))\n",
    "print(\"Positive class size: {}\".format(len(train_df[(train_df['dummy3'] == 1)])))"
   ]
  },
  {
   "cell_type": "code",
   "execution_count": 135,
   "metadata": {},
   "outputs": [
    {
     "name": "stdout",
     "output_type": "stream",
     "text": [
      "Test set: \n",
      "Negative class size: 1014\n",
      "Positive class size: 155\n"
     ]
    }
   ],
   "source": [
    "print(\"Test set: \")\n",
    "print(\"Negative class size: {}\".format(len(test_df[(test_df['dummy3'] == 0)])))\n",
    "print(\"Positive class size: {}\".format(len(test_df[(test_df['dummy3'] == 1)])))"
   ]
  },
  {
   "cell_type": "code",
   "execution_count": 136,
   "metadata": {},
   "outputs": [],
   "source": [
    "tok = Tokenizer(num_words=max_features, split=' ')\n",
    "tok.fit_on_texts(train_df['text'].values)\n",
    "X_train = tok.texts_to_sequences(train_df['text'].values)\n",
    "Y_train = pd.get_dummies(train_df['dummy3']).values\n",
    "\n",
    "X_test = tok.texts_to_sequences(test_df['text'].values)\n",
    "Y_test = pd.get_dummies(test_df['dummy3']).values\n",
    "\n",
    "X_train = sequence.pad_sequences(X_train, maxlen=maxlen)\n",
    "X_test = sequence.pad_sequences(X_test, maxlen=maxlen)"
   ]
  },
  {
   "cell_type": "markdown",
   "metadata": {},
   "source": [
    "### Build a model"
   ]
  },
  {
   "cell_type": "code",
   "execution_count": null,
   "metadata": {},
   "outputs": [],
   "source": [
    "model = Sequential()\n",
    "model.add(Embedding(max_features, embedding_size, \n",
    "                    input_length=maxlen))\n",
    "model.add(Dropout(0.25))\n",
    "model.add(Conv1D(filters,\n",
    "                 kernel_size,\n",
    "                 padding='valid',\n",
    "                 activation='relu',\n",
    "                 strides=1))\n",
    "model.add(MaxPooling1D(pool_size=pool_size))\n",
    "model.add(LSTM(lstm_output_size))\n",
    "model.add(Dense(2))\n",
    "model.add(Activation('sigmoid'))\n",
    "\n",
    "model.compile(loss='binary_crossentropy',\n",
    "              optimizer='adam',\n",
    "              metrics=['accuracy'])\n",
    "print(\"Model summary: \")\n",
    "print(model.summary())\n",
    "\n",
    "print('Train...')\n",
    "model.fit(X_train, Y_train,\n",
    "          batch_size=batch_size,\n",
    "          epochs=epochs)\n",
    "\n",
    "score, acc = model.evaluate(X_train, Y_train, batch_size=batch_size)\n",
    "print(\"Score on train set: \", score)\n",
    "print(\"Accuracy on train set: \", acc)\n",
    "\n",
    "score, acc = model.evaluate(X_test, Y_test, batch_size=batch_size)\n",
    "print(\"Score on test set: \", score)\n",
    "print(\"Accuracy on test set: \", acc)"
   ]
  },
  {
   "cell_type": "code",
   "execution_count": 116,
   "metadata": {},
   "outputs": [],
   "source": [
    "Y_pred = model.predict(X_test)\n",
    "Y_pred = (Y_pred > 0.5).astype(int)"
   ]
  },
  {
   "cell_type": "code",
   "execution_count": 117,
   "metadata": {},
   "outputs": [
    {
     "name": "stdout",
     "output_type": "stream",
     "text": [
      "True positive:  0\n",
      "False positive:  0\n",
      "True negative:  1045\n",
      "False negative:  124\n"
     ]
    },
    {
     "ename": "ZeroDivisionError",
     "evalue": "division by zero",
     "output_type": "error",
     "traceback": [
      "\u001b[0;31m---------------------------------------------------------------------------\u001b[0m",
      "\u001b[0;31mZeroDivisionError\u001b[0m                         Traceback (most recent call last)",
      "\u001b[0;32m<ipython-input-117-843e58e43825>\u001b[0m in \u001b[0;36m<module>\u001b[0;34m()\u001b[0m\n\u001b[1;32m     31\u001b[0m     \u001b[0;34m[\u001b[0m\u001b[0mfn\u001b[0m\u001b[0;34m,\u001b[0m \u001b[0mtp\u001b[0m\u001b[0;34m]\u001b[0m\u001b[0;34m\u001b[0m\u001b[0m\n\u001b[1;32m     32\u001b[0m ]\n\u001b[0;32m---> 33\u001b[0;31m \u001b[0mprecision\u001b[0m \u001b[0;34m=\u001b[0m \u001b[0mtp\u001b[0m\u001b[0;34m/\u001b[0m\u001b[0;34m(\u001b[0m\u001b[0mtp\u001b[0m \u001b[0;34m+\u001b[0m \u001b[0mfp\u001b[0m\u001b[0;34m)\u001b[0m\u001b[0;34m\u001b[0m\u001b[0m\n\u001b[0m\u001b[1;32m     34\u001b[0m \u001b[0mrecall\u001b[0m \u001b[0;34m=\u001b[0m \u001b[0mtp\u001b[0m\u001b[0;34m/\u001b[0m\u001b[0;34m(\u001b[0m\u001b[0mtp\u001b[0m \u001b[0;34m+\u001b[0m \u001b[0mfn\u001b[0m\u001b[0;34m)\u001b[0m\u001b[0;34m\u001b[0m\u001b[0m\n\u001b[1;32m     35\u001b[0m \u001b[0mf1_score\u001b[0m \u001b[0;34m=\u001b[0m \u001b[0;36m2\u001b[0m \u001b[0;34m*\u001b[0m \u001b[0mprecision\u001b[0m \u001b[0;34m*\u001b[0m \u001b[0mrecall\u001b[0m \u001b[0;34m/\u001b[0m \u001b[0;34m(\u001b[0m\u001b[0mprecision\u001b[0m \u001b[0;34m+\u001b[0m \u001b[0mrecall\u001b[0m\u001b[0;34m)\u001b[0m\u001b[0;34m\u001b[0m\u001b[0m\n",
      "\u001b[0;31mZeroDivisionError\u001b[0m: division by zero"
     ]
    }
   ],
   "source": [
    "tp = 0\n",
    "tn = 0\n",
    "fp = 0\n",
    "fn = 0\n",
    "\n",
    "# [0, 1] positive, i.e, tax risk exists\n",
    "# [1, 0] negative, no tax risk\n",
    "for i in range(len(Y_test)):\n",
    "    # positive\n",
    "    if np.argmax(Y_test[i]) == 1:\n",
    "        # positive\n",
    "        if np.argmax(Y_pred[i]) == 1:\n",
    "            tp += 1\n",
    "        # negative\n",
    "        else:\n",
    "            fn += 1\n",
    "    # negative        \n",
    "    else:\n",
    "        # negative\n",
    "        if np.argmax(Y_pred[i] == 0):\n",
    "            tn +=1\n",
    "        # positive\n",
    "        else:\n",
    "            fp += 1\n",
    "print(\"True positive: \", tp)\n",
    "print(\"False positive: \", fp)\n",
    "print(\"True negative: \", tn)\n",
    "print(\"False negative: \", fn)\n",
    "cm = [\n",
    "    [tn, fp],\n",
    "    [fn, tp]\n",
    "]\n",
    "precision = tp/(tp + fp)\n",
    "recall = tp/(tp + fn)\n",
    "f1_score = 2 * precision * recall / (precision + recall)\n",
    "accuracy = (tp + tn) / (tp + tn + fp + fn)\n",
    "print(\"Precision: %.4lf\"%precision)\n",
    "print(\"Recall: %.4lf\"%recall)\n",
    "print(\"F1-score: %.4lf\"%f1_score)\n",
    "print(\"Accuracy: %.4lf\"%accuracy)"
   ]
  },
  {
   "cell_type": "code",
   "execution_count": null,
   "metadata": {},
   "outputs": [],
   "source": [
    "import matplotlib.pyplot as plt\n",
    "import seaborn as sns\n",
    "def plot_confusion_matrix(cm, classes):\n",
    "    \"\"\"Plot confusion matrix from metrics.confusion_matrix numpy.ndarray\n",
    "    \n",
    "    Args:\n",
    "        cm: numpy.ndarray confusion matrix which is returned from metrics.confusion matrix\n",
    "        classes: list of class names\n",
    "    \"\"\"\n",
    "    if len(classes) == 2:\n",
    "        # the count of true negatives is C_{0,0}, \n",
    "        # false negatives is C_{1,0}, \n",
    "        # true positives is C_{1,1}, \n",
    "        # false positives is C_{0,1}.\n",
    "        classes = [classes[0]+\": (- class)\", classes[1]+\": (+ class)\"]\n",
    "        \n",
    "    cm_df = pd.DataFrame(cm, index=classes, columns=classes)\n",
    "    fig = plt.figure()\n",
    "    heatmap = sns.heatmap(cm_df, annot=True, fmt=\"d\", cmap=\"Blues\")\n",
    "    heatmap.xaxis.set_ticklabels(heatmap.xaxis.get_ticklabels())\n",
    "    heatmap.yaxis.set_ticklabels(heatmap.yaxis.get_ticklabels())\n",
    "    plt.xlabel(\"PREDICTED LABEL\")\n",
    "    plt.ylabel(\"TRUE LABEL\")\n",
    "\n",
    "def get_scores(cm):\n",
    "    \"\"\"Return precision, recall, accuracy, f1-score from confusion matrix.\n",
    "       the count of true negatives is cm[0,0]\n",
    "       the count of false negatives is cm[1, 0]\n",
    "       the count of true positives is cm[1, 1]\n",
    "       the count of false positives is cm[0, 1]\n",
    "    \n",
    "    Args:\n",
    "        cm: numpy.ndarray confusion matrix which is returned from metrics.confusion matrix\n",
    "    \n",
    "    Returns:\n",
    "        scores: dictionary of scores\n",
    "    \"\"\"\n",
    "    tn, fp, fn, tp = cm.ravel()\n",
    "    \n",
    "    scores = {}\n",
    "    scores['precision'] = tp/(tp + fp)\n",
    "    scores['recall'] = tp/(tp + fn)\n",
    "    scores['accuracy'] = (tp + tn)/(tp + tn + fp + fn)\n",
    "    scores['f1'] = 2*scores['precision']*scores['recall']/(scores['precision'] + scores['recall'])\n",
    "    \n",
    "    return scores    "
   ]
  },
  {
   "cell_type": "code",
   "execution_count": null,
   "metadata": {},
   "outputs": [],
   "source": [
    "plot_confusion_matrix(cm, ['0', '1'])"
   ]
  },
  {
   "cell_type": "code",
   "execution_count": null,
   "metadata": {},
   "outputs": [],
   "source": []
  }
 ],
 "metadata": {
  "kernelspec": {
   "display_name": "Python 3",
   "language": "python",
   "name": "python3"
  },
  "language_info": {
   "codemirror_mode": {
    "name": "ipython",
    "version": 3
   },
   "file_extension": ".py",
   "mimetype": "text/x-python",
   "name": "python",
   "nbconvert_exporter": "python",
   "pygments_lexer": "ipython3",
   "version": "3.6.4"
  }
 },
 "nbformat": 4,
 "nbformat_minor": 2
}
