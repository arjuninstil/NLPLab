{
 "cells": [
  {
   "cell_type": "code",
   "execution_count": 1,
   "metadata": {},
   "outputs": [],
   "source": [
    "import pandas as pd\n",
    "import numpy as np"
   ]
  },
  {
   "cell_type": "code",
   "execution_count": 2,
   "metadata": {},
   "outputs": [],
   "source": [
    "train_df = pd.read_csv(\"private/sorted_train.csv\")\n",
    "test_df = pd.read_csv(\"private/sorted_test.csv\")"
   ]
  },
  {
   "cell_type": "code",
   "execution_count": 3,
   "metadata": {},
   "outputs": [],
   "source": [
    "gazetteer = [\"tax\",\"risk\",\"risks\",\"group\",\"x92s\",\"financial\",\n",
    "             \"management\",\"changes\",\"business\",\"legal\",\"company\",\"authorities\",\"compliance\",\n",
    "             \"taxes\",\"regulations\",\"law\",\"related\",\"control\",\"laws\",\"committee\"]"
   ]
  },
  {
   "cell_type": "code",
   "execution_count": 4,
   "metadata": {},
   "outputs": [],
   "source": [
    "def is_tax(text):\n",
    "    for g in gazetteer:\n",
    "        if g in text:\n",
    "            return 1\n",
    "    return 1\n",
    "\n",
    "def random_guess():\n",
    "    return np.random.randint(2)"
   ]
  },
  {
   "cell_type": "markdown",
   "metadata": {},
   "source": [
    "## Gazetteer for dummy_1"
   ]
  },
  {
   "cell_type": "code",
   "execution_count": 5,
   "metadata": {},
   "outputs": [
    {
     "name": "stdout",
     "output_type": "stream",
     "text": [
      "Matches for training set:  5927\n",
      "Accuracy for training set:  0.29615749762654275\n",
      "Matches for test set:  1594\n",
      "Accuracy for test set:  0.23621813870776526\n"
     ]
    }
   ],
   "source": [
    "dummy_gazetteer = train_df['text'].apply(lambda x: is_tax(x))\n",
    "matches = 0\n",
    "for i in range(len(dummy_gazetteer)):\n",
    "    if dummy_gazetteer.loc[i] == train_df['dummy1'].loc[i]:\n",
    "        matches += 1\n",
    "print(\"Matches for training set: \", matches)\n",
    "print(\"Accuracy for training set: \", matches/len(train_df))\n",
    "\n",
    "dummy_gazetteer = test_df['text'].apply(lambda x: is_tax(x))\n",
    "matches = 0\n",
    "for i in range(len(dummy_gazetteer)):\n",
    "    if dummy_gazetteer.loc[i] == test_df['dummy1'].loc[i]:\n",
    "        matches += 1\n",
    "print(\"Matches for test set: \", matches)\n",
    "print(\"Accuracy for test set: \", matches/len(test_df))"
   ]
  },
  {
   "cell_type": "markdown",
   "metadata": {},
   "source": [
    "## Gazetteer for dummy_2"
   ]
  },
  {
   "cell_type": "code",
   "execution_count": 6,
   "metadata": {},
   "outputs": [
    {
     "name": "stdout",
     "output_type": "stream",
     "text": [
      "Matches for training set:  3923\n",
      "Accuracy for training set:  0.1960225853195423\n",
      "Matches for test set:  915\n",
      "Accuracy for test set:  0.1355957320687611\n"
     ]
    }
   ],
   "source": [
    "dummy_gazetteer = train_df['text'].apply(lambda x: is_tax(x))\n",
    "matches = 0\n",
    "for i in range(len(dummy_gazetteer)):\n",
    "    if dummy_gazetteer.loc[i] == train_df['dummy2'].loc[i]:\n",
    "        matches += 1\n",
    "print(\"Matches for training set: \", matches)\n",
    "print(\"Accuracy for training set: \", matches/len(train_df))\n",
    "\n",
    "dummy_gazetteer = test_df['text'].apply(lambda x: is_tax(x))\n",
    "matches = 0\n",
    "for i in range(len(dummy_gazetteer)):\n",
    "    if dummy_gazetteer.loc[i] == test_df['dummy2'].loc[i]:\n",
    "        matches += 1\n",
    "print(\"Matches for test set: \", matches)\n",
    "print(\"Accuracy for test set: \", matches/len(test_df))"
   ]
  },
  {
   "cell_type": "markdown",
   "metadata": {},
   "source": [
    "## Gazetteer for dummy_3"
   ]
  },
  {
   "cell_type": "code",
   "execution_count": 7,
   "metadata": {},
   "outputs": [
    {
     "name": "stdout",
     "output_type": "stream",
     "text": [
      "Matches for training set:  1949\n",
      "Accuracy for training set:  0.09738669864588018\n",
      "Matches for test set:  444\n",
      "Accuracy for test set:  0.06579727326615294\n"
     ]
    }
   ],
   "source": [
    "dummy_gazetteer = train_df['text'].apply(lambda x: is_tax(x))\n",
    "matches = 0\n",
    "for i in range(len(dummy_gazetteer)):\n",
    "    if dummy_gazetteer.loc[i] == train_df['dummy3'].loc[i]:\n",
    "        matches += 1\n",
    "print(\"Matches for training set: \", matches)\n",
    "print(\"Accuracy for training set: \", matches/len(train_df))\n",
    "\n",
    "dummy_gazetteer = test_df['text'].apply(lambda x: is_tax(x))\n",
    "matches = 0\n",
    "for i in range(len(dummy_gazetteer)):\n",
    "    if dummy_gazetteer.loc[i] == test_df['dummy3'].loc[i]:\n",
    "        matches += 1\n",
    "print(\"Matches for test set: \", matches)\n",
    "print(\"Accuracy for test set: \", matches/len(test_df))"
   ]
  },
  {
   "cell_type": "markdown",
   "metadata": {},
   "source": [
    "## Random guess for dummy_1"
   ]
  },
  {
   "cell_type": "code",
   "execution_count": 8,
   "metadata": {},
   "outputs": [
    {
     "name": "stdout",
     "output_type": "stream",
     "text": [
      "Matches for training set:  9971\n",
      "Accuracy for training set:  0.4982261530005496\n",
      "Matches for test set:  3431\n",
      "Accuracy for test set:  0.5084469472436277\n"
     ]
    }
   ],
   "source": [
    "dummy_random = train_df['text'].apply(lambda x: random_guess())\n",
    "matches = 0\n",
    "for i in range(len(dummy_random)):\n",
    "    if dummy_random.loc[i] == train_df['dummy1'].loc[i]:\n",
    "        matches += 1\n",
    "print(\"Matches for training set: \", matches)\n",
    "print(\"Accuracy for training set: \", matches/len(train_df))\n",
    "\n",
    "dummy_random = test_df['text'].apply(lambda x: random_guess())\n",
    "matches = 0\n",
    "for i in range(len(dummy_random)):\n",
    "    if dummy_random.loc[i] == test_df['dummy1'].loc[i]:\n",
    "        matches += 1\n",
    "print(\"Matches for test set: \", matches)\n",
    "print(\"Accuracy for test set: \", matches/len(test_df))"
   ]
  },
  {
   "cell_type": "markdown",
   "metadata": {},
   "source": [
    "## Random guess for dummy_2"
   ]
  },
  {
   "cell_type": "code",
   "execution_count": 9,
   "metadata": {},
   "outputs": [
    {
     "name": "stdout",
     "output_type": "stream",
     "text": [
      "Matches for training set:  10102\n",
      "Accuracy for training set:  0.504771898266127\n",
      "Matches for test set:  3423\n",
      "Accuracy for test set:  0.5072614107883817\n"
     ]
    }
   ],
   "source": [
    "dummy_random = train_df['text'].apply(lambda x: random_guess())\n",
    "matches = 0\n",
    "for i in range(len(dummy_random)):\n",
    "    if dummy_random.loc[i] == train_df['dummy2'].loc[i]:\n",
    "        matches += 1\n",
    "print(\"Matches for training set: \", matches)\n",
    "print(\"Accuracy for training set: \", matches/len(train_df))\n",
    "\n",
    "dummy_random = test_df['text'].apply(lambda x: random_guess())\n",
    "matches = 0\n",
    "for i in range(len(dummy_random)):\n",
    "    if dummy_random.loc[i] == test_df['dummy2'].loc[i]:\n",
    "        matches += 1\n",
    "print(\"Matches for test set: \", matches)\n",
    "print(\"Accuracy for test set: \", matches/len(test_df))"
   ]
  },
  {
   "cell_type": "markdown",
   "metadata": {},
   "source": [
    "## Random guess for dummy_3"
   ]
  },
  {
   "cell_type": "code",
   "execution_count": 10,
   "metadata": {},
   "outputs": [
    {
     "name": "stdout",
     "output_type": "stream",
     "text": [
      "Matches for training set:  10064\n",
      "Accuracy for training set:  0.5028731324638984\n",
      "Matches for test set:  3395\n",
      "Accuracy for test set:  0.5031120331950207\n"
     ]
    }
   ],
   "source": [
    "dummy_random = train_df['text'].apply(lambda x: random_guess())\n",
    "matches = 0\n",
    "for i in range(len(dummy_random)):\n",
    "    if dummy_random.loc[i] == train_df['dummy3'].loc[i]:\n",
    "        matches += 1\n",
    "print(\"Matches for training set: \", matches)\n",
    "print(\"Accuracy for training set: \", matches/len(train_df))\n",
    "\n",
    "dummy_random = test_df['text'].apply(lambda x: random_guess())\n",
    "matches = 0\n",
    "for i in range(len(dummy_random)):\n",
    "    if dummy_random.loc[i] == test_df['dummy3'].loc[i]:\n",
    "        matches += 1\n",
    "print(\"Matches for test set: \", matches)\n",
    "print(\"Accuracy for test set: \", matches/len(test_df))"
   ]
  },
  {
   "cell_type": "code",
   "execution_count": null,
   "metadata": {},
   "outputs": [],
   "source": []
  }
 ],
 "metadata": {
  "kernelspec": {
   "display_name": "Python 3",
   "language": "python",
   "name": "python3"
  },
  "language_info": {
   "codemirror_mode": {
    "name": "ipython",
    "version": 3
   },
   "file_extension": ".py",
   "mimetype": "text/x-python",
   "name": "python",
   "nbconvert_exporter": "python",
   "pygments_lexer": "ipython3",
   "version": "3.6.4"
  }
 },
 "nbformat": 4,
 "nbformat_minor": 2
}
