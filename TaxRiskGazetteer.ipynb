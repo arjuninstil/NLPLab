{
 "cells": [
  {
   "cell_type": "code",
   "execution_count": 11,
   "metadata": {},
   "outputs": [],
   "source": [
    "import pandas as pd\n",
    "import numpy as np"
   ]
  },
  {
   "cell_type": "code",
   "execution_count": 12,
   "metadata": {},
   "outputs": [],
   "source": [
    "train_df = pd.read_csv(\"private/sorted_train.csv\")\n",
    "test_df = pd.read_csv(\"private/sorted_test.csv\")"
   ]
  },
  {
   "cell_type": "code",
   "execution_count": 25,
   "metadata": {},
   "outputs": [],
   "source": [
    "gazetteer = [\"tax\",\"risk\",\"risks\",\"group\",\"x92s\",\"financial\",\n",
    "             \"management\",\"changes\",\"business\",\"legal\",\"company\",\"authorities\",\"compliance\",\n",
    "             \"taxes\",\"regulations\",\"law\",\"related\",\"control\",\"laws\",\"committee\"]"
   ]
  },
  {
   "cell_type": "code",
   "execution_count": 26,
   "metadata": {},
   "outputs": [
    {
     "data": {
      "text/plain": [
       "20"
      ]
     },
     "execution_count": 26,
     "metadata": {},
     "output_type": "execute_result"
    }
   ],
   "source": [
    "len(gazetteer)"
   ]
  },
  {
   "cell_type": "code",
   "execution_count": 36,
   "metadata": {},
   "outputs": [],
   "source": [
    "def is_tax(text):\n",
    "    return 0\n",
    "    c = 0\n",
    "    for g in gazetteer:\n",
    "        if g in text:\n",
    "            c += 1\n",
    "    if c == 20:\n",
    "        return 1\n",
    "    else:\n",
    "        return 0\n",
    "\n",
    "def random_guess():\n",
    "    return np.random.randint(2)"
   ]
  },
  {
   "cell_type": "markdown",
   "metadata": {},
   "source": [
    "## Gazetteer for dummy_1"
   ]
  },
  {
   "cell_type": "code",
   "execution_count": 37,
   "metadata": {},
   "outputs": [
    {
     "name": "stdout",
     "output_type": "stream",
     "text": [
      "Matches for training set:  14086\n",
      "Accuracy for training set:  0.7038425023734572\n",
      "Matches for test set:  5154\n",
      "Accuracy for test set:  0.7637818612922347\n"
     ]
    }
   ],
   "source": [
    "dummy_gazetteer = train_df['text'].apply(lambda x: is_tax(x))\n",
    "matches = 0\n",
    "for i in range(len(dummy_gazetteer)):\n",
    "    if dummy_gazetteer.loc[i] == train_df['dummy1'].loc[i]:\n",
    "        matches += 1\n",
    "print(\"Matches for training set: \", matches)\n",
    "print(\"Accuracy for training set: \", matches/len(train_df))\n",
    "\n",
    "dummy_gazetteer = test_df['text'].apply(lambda x: is_tax(x))\n",
    "matches = 0\n",
    "for i in range(len(dummy_gazetteer)):\n",
    "    if dummy_gazetteer.loc[i] == test_df['dummy1'].loc[i]:\n",
    "        matches += 1\n",
    "print(\"Matches for test set: \", matches)\n",
    "print(\"Accuracy for test set: \", matches/len(test_df))"
   ]
  },
  {
   "cell_type": "markdown",
   "metadata": {},
   "source": [
    "## Gazetteer for dummy_2"
   ]
  },
  {
   "cell_type": "code",
   "execution_count": 34,
   "metadata": {},
   "outputs": [
    {
     "name": "stdout",
     "output_type": "stream",
     "text": [
      "Matches for training set:  16090\n",
      "Accuracy for training set:  0.8039774146804577\n",
      "Matches for test set:  5833\n",
      "Accuracy for test set:  0.8644042679312389\n"
     ]
    }
   ],
   "source": [
    "dummy_gazetteer = train_df['text'].apply(lambda x: is_tax(x))\n",
    "matches = 0\n",
    "for i in range(len(dummy_gazetteer)):\n",
    "    if dummy_gazetteer.loc[i] == train_df['dummy2'].loc[i]:\n",
    "        matches += 1\n",
    "print(\"Matches for training set: \", matches)\n",
    "print(\"Accuracy for training set: \", matches/len(train_df))\n",
    "\n",
    "dummy_gazetteer = test_df['text'].apply(lambda x: is_tax(x))\n",
    "matches = 0\n",
    "for i in range(len(dummy_gazetteer)):\n",
    "    if dummy_gazetteer.loc[i] == test_df['dummy2'].loc[i]:\n",
    "        matches += 1\n",
    "print(\"Matches for test set: \", matches)\n",
    "print(\"Accuracy for test set: \", matches/len(test_df))"
   ]
  },
  {
   "cell_type": "markdown",
   "metadata": {},
   "source": [
    "## Gazetteer for dummy_3"
   ]
  },
  {
   "cell_type": "code",
   "execution_count": 35,
   "metadata": {},
   "outputs": [
    {
     "name": "stdout",
     "output_type": "stream",
     "text": [
      "Matches for training set:  18064\n",
      "Accuracy for training set:  0.9026133013541198\n",
      "Matches for test set:  6304\n",
      "Accuracy for test set:  0.9342027267338471\n"
     ]
    }
   ],
   "source": [
    "dummy_gazetteer = train_df['text'].apply(lambda x: is_tax(x))\n",
    "matches = 0\n",
    "for i in range(len(dummy_gazetteer)):\n",
    "    if dummy_gazetteer.loc[i] == train_df['dummy3'].loc[i]:\n",
    "        matches += 1\n",
    "print(\"Matches for training set: \", matches)\n",
    "print(\"Accuracy for training set: \", matches/len(train_df))\n",
    "\n",
    "dummy_gazetteer = test_df['text'].apply(lambda x: is_tax(x))\n",
    "matches = 0\n",
    "for i in range(len(dummy_gazetteer)):\n",
    "    if dummy_gazetteer.loc[i] == test_df['dummy3'].loc[i]:\n",
    "        matches += 1\n",
    "print(\"Matches for test set: \", matches)\n",
    "print(\"Accuracy for test set: \", matches/len(test_df))"
   ]
  },
  {
   "cell_type": "markdown",
   "metadata": {},
   "source": [
    "## Random guess for dummy_1"
   ]
  },
  {
   "cell_type": "code",
   "execution_count": 8,
   "metadata": {},
   "outputs": [
    {
     "name": "stdout",
     "output_type": "stream",
     "text": [
      "Matches for training set:  10035\n",
      "Accuracy for training set:  0.5014240743516715\n",
      "Matches for test set:  3347\n",
      "Accuracy for test set:  0.49599881446354477\n"
     ]
    }
   ],
   "source": [
    "dummy_random = train_df['text'].apply(lambda x: random_guess())\n",
    "matches = 0\n",
    "for i in range(len(dummy_random)):\n",
    "    if dummy_random.loc[i] == train_df['dummy1'].loc[i]:\n",
    "        matches += 1\n",
    "print(\"Matches for training set: \", matches)\n",
    "print(\"Accuracy for training set: \", matches/len(train_df))\n",
    "\n",
    "dummy_random = test_df['text'].apply(lambda x: random_guess())\n",
    "matches = 0\n",
    "for i in range(len(dummy_random)):\n",
    "    if dummy_random.loc[i] == test_df['dummy1'].loc[i]:\n",
    "        matches += 1\n",
    "print(\"Matches for test set: \", matches)\n",
    "print(\"Accuracy for test set: \", matches/len(test_df))"
   ]
  },
  {
   "cell_type": "markdown",
   "metadata": {},
   "source": [
    "## Random guess for dummy_2"
   ]
  },
  {
   "cell_type": "code",
   "execution_count": 9,
   "metadata": {},
   "outputs": [
    {
     "name": "stdout",
     "output_type": "stream",
     "text": [
      "Matches for training set:  9991\n",
      "Accuracy for training set:  0.4992255034227752\n",
      "Matches for test set:  3360\n",
      "Accuracy for test set:  0.4979253112033195\n"
     ]
    }
   ],
   "source": [
    "dummy_random = train_df['text'].apply(lambda x: random_guess())\n",
    "matches = 0\n",
    "for i in range(len(dummy_random)):\n",
    "    if dummy_random.loc[i] == train_df['dummy2'].loc[i]:\n",
    "        matches += 1\n",
    "print(\"Matches for training set: \", matches)\n",
    "print(\"Accuracy for training set: \", matches/len(train_df))\n",
    "\n",
    "dummy_random = test_df['text'].apply(lambda x: random_guess())\n",
    "matches = 0\n",
    "for i in range(len(dummy_random)):\n",
    "    if dummy_random.loc[i] == test_df['dummy2'].loc[i]:\n",
    "        matches += 1\n",
    "print(\"Matches for test set: \", matches)\n",
    "print(\"Accuracy for test set: \", matches/len(test_df))"
   ]
  },
  {
   "cell_type": "markdown",
   "metadata": {},
   "source": [
    "## Random guess for dummy_3"
   ]
  },
  {
   "cell_type": "code",
   "execution_count": 10,
   "metadata": {},
   "outputs": [
    {
     "name": "stdout",
     "output_type": "stream",
     "text": [
      "Matches for training set:  10018\n",
      "Accuracy for training set:  0.5005746264927797\n",
      "Matches for test set:  3410\n",
      "Accuracy for test set:  0.505334914048607\n"
     ]
    }
   ],
   "source": [
    "dummy_random = train_df['text'].apply(lambda x: random_guess())\n",
    "matches = 0\n",
    "for i in range(len(dummy_random)):\n",
    "    if dummy_random.loc[i] == train_df['dummy3'].loc[i]:\n",
    "        matches += 1\n",
    "print(\"Matches for training set: \", matches)\n",
    "print(\"Accuracy for training set: \", matches/len(train_df))\n",
    "\n",
    "dummy_random = test_df['text'].apply(lambda x: random_guess())\n",
    "matches = 0\n",
    "for i in range(len(dummy_random)):\n",
    "    if dummy_random.loc[i] == test_df['dummy3'].loc[i]:\n",
    "        matches += 1\n",
    "print(\"Matches for test set: \", matches)\n",
    "print(\"Accuracy for test set: \", matches/len(test_df))"
   ]
  },
  {
   "cell_type": "code",
   "execution_count": null,
   "metadata": {},
   "outputs": [],
   "source": []
  }
 ],
 "metadata": {
  "kernelspec": {
   "display_name": "Python 3",
   "language": "python",
   "name": "python3"
  },
  "language_info": {
   "codemirror_mode": {
    "name": "ipython",
    "version": 3
   },
   "file_extension": ".py",
   "mimetype": "text/x-python",
   "name": "python",
   "nbconvert_exporter": "python",
   "pygments_lexer": "ipython3",
   "version": "3.6.4"
  }
 },
 "nbformat": 4,
 "nbformat_minor": 2
}
