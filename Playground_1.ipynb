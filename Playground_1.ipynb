{
 "cells": [
  {
   "cell_type": "code",
   "execution_count": 1,
   "metadata": {},
   "outputs": [],
   "source": [
    "import nltk\n",
    "from nltk import pos_tag, word_tokenize"
   ]
  },
  {
   "cell_type": "code",
   "execution_count": 2,
   "metadata": {},
   "outputs": [
    {
     "data": {
      "text/plain": [
       "[('Pierre', 'NNP'),\n",
       " ('Vinken', 'NNP'),\n",
       " (',', ','),\n",
       " ('61', 'CD'),\n",
       " ('years', 'NNS'),\n",
       " ('old', 'JJ'),\n",
       " (',', ','),\n",
       " ('will', 'MD'),\n",
       " ('join', 'VB'),\n",
       " ('the', 'DT'),\n",
       " ('board', 'NN'),\n",
       " ('as', 'IN'),\n",
       " ('a', 'DT'),\n",
       " ('nonexecutive', 'JJ'),\n",
       " ('director', 'NN'),\n",
       " ('Nov.', 'NNP'),\n",
       " ('29', 'CD'),\n",
       " ('.', '.')]"
      ]
     },
     "execution_count": 2,
     "metadata": {},
     "output_type": "execute_result"
    }
   ],
   "source": [
    "annotated_sent = nltk.corpus.treebank.tagged_sents()\n",
    "annotated_sent[0]"
   ]
  },
  {
   "cell_type": "code",
   "execution_count": 18,
   "metadata": {},
   "outputs": [],
   "source": [
    "def features(sentence, index):\n",
    "    return {\n",
    "        'word': sentence[index],\n",
    "        'is_capitalized': sentence[index][0].upper() == sentence[index][0],\n",
    "        'prefix-1': sentence[index][0],\n",
    "        'suffix-1': sentence[index][-1],\n",
    "        'prev_word': '' if index == 0 else sentence[index - 1],\n",
    "        'next_word': '' if index == len(sentence) - 1 else sentence[index + 1]\n",
    "    }\n",
    "\n",
    "def untag(tagged_sentence):\n",
    "    return [w for w, t in tagged_sentence]\n",
    "\n",
    "def transform_to_dataset(tagged_sentences):\n",
    "    X, y = [], []\n",
    "    for tagged in tagged_sentences:\n",
    "        for index in range(len(tagged)):\n",
    "            X.append(features(untag(tagged), index))\n",
    "            y.append(tagged[index][1])\n",
    "            \n",
    "    return X, y"
   ]
  },
  {
   "cell_type": "code",
   "execution_count": 19,
   "metadata": {},
   "outputs": [],
   "source": [
    "cutoff = int(0.75 * len(annotated_sent))\n",
    "training_sentences = annotated_sent[:cutoff]\n",
    "test_sentences = annotated_sent[cutoff:]\n",
    "X, y = transform_to_dataset(training_sentences)\n",
    "X_test, y_test = transform_to_dataset(test_sentences)"
   ]
  },
  {
   "cell_type": "markdown",
   "metadata": {},
   "source": [
    "## Implementing a classifier"
   ]
  },
  {
   "cell_type": "code",
   "execution_count": 20,
   "metadata": {},
   "outputs": [],
   "source": [
    "from sklearn.tree import DecisionTreeClassifier\n",
    "from sklearn.feature_extraction import DictVectorizer\n",
    "from sklearn.pipeline import Pipeline"
   ]
  },
  {
   "cell_type": "code",
   "execution_count": 21,
   "metadata": {},
   "outputs": [],
   "source": [
    "size=10000"
   ]
  },
  {
   "cell_type": "code",
   "execution_count": 22,
   "metadata": {},
   "outputs": [
    {
     "name": "stdout",
     "output_type": "stream",
     "text": [
      "training OK\n",
      "Accuracy: 0.8790776152980877\n"
     ]
    }
   ],
   "source": [
    "clf = Pipeline([\n",
    "    ('vectorizer', DictVectorizer(sparse=False)),\n",
    "    ('classifier', DecisionTreeClassifier(criterion='entropy'))\n",
    "])\n",
    "\n",
    "clf.fit(X[:size], y[:size])\n",
    "print('training OK')\n",
    "score = clf.score(X_test, y_test)\n",
    "print (\"Accuracy: \" + str(score))"
   ]
  },
  {
   "cell_type": "markdown",
   "metadata": {},
   "source": [
    "### Without pipeline"
   ]
  },
  {
   "cell_type": "code",
   "execution_count": 23,
   "metadata": {},
   "outputs": [],
   "source": [
    "# v = DictVectorizer(sparse=False)\n",
    "# Xdv = v.fit_transform(X[:size])\n",
    "\n",
    "# v2 = DictVectorizer(sparse=False)\n",
    "# Xdv_test = v.transform(X_test)\n",
    "\n",
    "# clf = DecisionTreeClassifier(criterion='entropy')\n",
    "\n",
    "# clf.fit(Xdv[:size], y[:size])\n",
    "\n",
    "# clf.score(Xdv_test, y_test)"
   ]
  },
  {
   "cell_type": "markdown",
   "metadata": {},
   "source": [
    "## Using classifier"
   ]
  },
  {
   "cell_type": "code",
   "execution_count": 24,
   "metadata": {},
   "outputs": [],
   "source": [
    "def pos_tag(sentence):\n",
    "    print(\"checking...\")\n",
    "    tagged_sentence = []\n",
    "    tags = clf.predict([features(sentence, index) for index in range(len(sentence))])\n",
    "    return zip(sentence, tags)"
   ]
  },
  {
   "cell_type": "code",
   "execution_count": 26,
   "metadata": {},
   "outputs": [
    {
     "data": {
      "text/plain": [
       "[{'is_capitalized': True,\n",
       "  'next_word': 'world',\n",
       "  'prefix-1': 'H',\n",
       "  'prev_word': '',\n",
       "  'suffix-1': 'o',\n",
       "  'word': 'Hello'},\n",
       " {'is_capitalized': False,\n",
       "  'next_word': ',',\n",
       "  'prefix-1': 'w',\n",
       "  'prev_word': 'Hello',\n",
       "  'suffix-1': 'd',\n",
       "  'word': 'world'},\n",
       " {'is_capitalized': True,\n",
       "  'next_word': 'lets',\n",
       "  'prefix-1': ',',\n",
       "  'prev_word': 'world',\n",
       "  'suffix-1': ',',\n",
       "  'word': ','},\n",
       " {'is_capitalized': False,\n",
       "  'next_word': 'do',\n",
       "  'prefix-1': 'l',\n",
       "  'prev_word': ',',\n",
       "  'suffix-1': 's',\n",
       "  'word': 'lets'},\n",
       " {'is_capitalized': False,\n",
       "  'next_word': 'something',\n",
       "  'prefix-1': 'd',\n",
       "  'prev_word': 'lets',\n",
       "  'suffix-1': 'o',\n",
       "  'word': 'do'},\n",
       " {'is_capitalized': False,\n",
       "  'next_word': 'awesome',\n",
       "  'prefix-1': 's',\n",
       "  'prev_word': 'do',\n",
       "  'suffix-1': 'g',\n",
       "  'word': 'something'},\n",
       " {'is_capitalized': False,\n",
       "  'next_word': 'today',\n",
       "  'prefix-1': 'a',\n",
       "  'prev_word': 'something',\n",
       "  'suffix-1': 'e',\n",
       "  'word': 'awesome'},\n",
       " {'is_capitalized': False,\n",
       "  'next_word': '!',\n",
       "  'prefix-1': 't',\n",
       "  'prev_word': 'awesome',\n",
       "  'suffix-1': 'y',\n",
       "  'word': 'today'},\n",
       " {'is_capitalized': True,\n",
       "  'next_word': '',\n",
       "  'prefix-1': '!',\n",
       "  'prev_word': 'today',\n",
       "  'suffix-1': '!',\n",
       "  'word': '!'}]"
      ]
     },
     "execution_count": 26,
     "metadata": {},
     "output_type": "execute_result"
    }
   ],
   "source": [
    "sentence = word_tokenize('Hello world, lets do something awesome today!')\n",
    "[features(sentence, index) for index in range(len(sentence))]"
   ]
  },
  {
   "cell_type": "code",
   "execution_count": 27,
   "metadata": {},
   "outputs": [
    {
     "name": "stdout",
     "output_type": "stream",
     "text": [
      "checking...\n",
      "[('Hello', 'NN'), ('world', 'NN'), (',', ','), ('lets', 'NNS'), ('do', 'VB'), ('something', 'VBG'), ('awesome', 'NN'), ('today', 'NN'), ('!', 'NNP')]\n"
     ]
    }
   ],
   "source": [
    "print(list(pos_tag(word_tokenize('Hello world, lets do something awesome today!'))))"
   ]
  },
  {
   "cell_type": "markdown",
   "metadata": {},
   "source": [
    "## Rule based POS taggers"
   ]
  },
  {
   "cell_type": "code",
   "execution_count": 28,
   "metadata": {},
   "outputs": [],
   "source": [
    "from nltk.corpus import brown\n",
    "from nltk import DefaultTagger as df\n",
    "from nltk import UnigramTagger as ut\n",
    "from nltk import BigramTagger as bt\n",
    "from nltk import TrigramTagger as tg"
   ]
  },
  {
   "cell_type": "code",
   "execution_count": 47,
   "metadata": {},
   "outputs": [],
   "source": [
    "brown_tagged_sents = brown.tagged_sents(categories='news')\n",
    "brown_sents = brown.sents(categories='news')\n",
    "\n",
    "size = int(len(brown_tagged_sents) * 0.9)\n",
    "\n",
    "train_sents = brown_tagged_sents[:size]\n",
    "test_sents = brown_tagged_sents[size:]"
   ]
  },
  {
   "cell_type": "markdown",
   "metadata": {},
   "source": [
    "### Default Tagger"
   ]
  },
  {
   "cell_type": "code",
   "execution_count": 41,
   "metadata": {},
   "outputs": [
    {
     "name": "stdout",
     "output_type": "stream",
     "text": [
      "0.131405972094873\n",
      "0.1262832652247583\n"
     ]
    }
   ],
   "source": [
    "def_model = nltk.DefaultTagger('NN')\n",
    "print(def_model.evaluate(train_sents))\n",
    "print(def_model.evaluate(test_sents))"
   ]
  },
  {
   "cell_type": "markdown",
   "metadata": {},
   "source": [
    "### Unigram Tagger"
   ]
  },
  {
   "cell_type": "code",
   "execution_count": 42,
   "metadata": {},
   "outputs": [
    {
     "name": "stdout",
     "output_type": "stream",
     "text": [
      "0.9353630649241612\n",
      "0.8121200039868434\n"
     ]
    }
   ],
   "source": [
    "uni_model = nltk.UnigramTagger(train_sents)\n",
    "print(uni_model.evaluate(train_sents))\n",
    "print(uni_model.evaluate(test_sents))"
   ]
  },
  {
   "cell_type": "markdown",
   "metadata": {},
   "source": [
    "### Bigram Tagger"
   ]
  },
  {
   "cell_type": "code",
   "execution_count": 43,
   "metadata": {},
   "outputs": [
    {
     "name": "stdout",
     "output_type": "stream",
     "text": [
      "0.7884137382485832\n",
      "0.10206319146815508\n"
     ]
    }
   ],
   "source": [
    "bi_model = nltk.BigramTagger(train_sents)\n",
    "print(bi_model.evaluate(train_sents))\n",
    "print(bi_model.evaluate(test_sents))"
   ]
  },
  {
   "cell_type": "markdown",
   "metadata": {},
   "source": [
    "### TrigramTagger"
   ]
  },
  {
   "cell_type": "code",
   "execution_count": 44,
   "metadata": {},
   "outputs": [
    {
     "name": "stdout",
     "output_type": "stream",
     "text": [
      "0.8216104550325339\n",
      "0.0626931127279976\n"
     ]
    }
   ],
   "source": [
    "tri_model = nltk.TrigramTagger(train_sents)\n",
    "print(tri_model.evaluate(train_sents))\n",
    "print(tri_model.evaluate(test_sents))"
   ]
  },
  {
   "cell_type": "markdown",
   "metadata": {},
   "source": [
    "### RegExp Tagger"
   ]
  },
  {
   "cell_type": "code",
   "execution_count": 49,
   "metadata": {},
   "outputs": [
    {
     "name": "stdout",
     "output_type": "stream",
     "text": [
      "0.20310204261994455\n",
      "0.2047244094488189\n"
     ]
    }
   ],
   "source": [
    "patterns = [(r'.*ing$', 'VBG'), (r'.*ed$', 'VBD'),\n",
    "            (r'.*es$', 'VBZ'), (r'.*ould$', 'MD'),\n",
    "            (r'.*\\'s$', 'NN$'), (r'.*s$', 'NNS'),\n",
    "            (r'^-?[0-9]+(.[0-9]+)?$', 'CD'), (r'.*', 'NN')]\n",
    "\n",
    "# patterns = [(r'.*ing$', 'VBG'), (r'.*ed$', 'VBD'), \n",
    "#             (r'.*es$', 'VBZ'), (r'.*ould$', 'MD'), \n",
    "#             (r'.*\\'s$', 'NN$'), (r'.*s$', 'NNS'), \n",
    "#             (r'^-?[0-9]+(.[0-9]+)?$', 'CD'), (r'.*', 'NN')]\n",
    "\n",
    "regexp_model = nltk.RegexpTagger(patterns)\n",
    "print(regexp_model.evaluate(train_sents))\n",
    "print(regexp_model.evaluate(test_sents))"
   ]
  },
  {
   "cell_type": "code",
   "execution_count": null,
   "metadata": {},
   "outputs": [],
   "source": []
  }
 ],
 "metadata": {
  "kernelspec": {
   "display_name": "Python 3",
   "language": "python",
   "name": "python3"
  },
  "language_info": {
   "codemirror_mode": {
    "name": "ipython",
    "version": 3
   },
   "file_extension": ".py",
   "mimetype": "text/x-python",
   "name": "python",
   "nbconvert_exporter": "python",
   "pygments_lexer": "ipython3",
   "version": "3.6.4"
  }
 },
 "nbformat": 4,
 "nbformat_minor": 2
}
